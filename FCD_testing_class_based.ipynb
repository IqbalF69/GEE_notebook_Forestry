{
 "cells": [
  {
   "cell_type": "code",
   "execution_count": 1,
   "id": "66fa87a6",
   "metadata": {},
   "outputs": [
    {
     "data": {
      "text/html": [
       "<p>To authorize access needed by Earth Engine, open the following\n",
       "        URL in a web browser and follow the instructions:</p>\n",
       "        <p><a href=https://code.earthengine.google.com/client-auth?scopes=https%3A//www.googleapis.com/auth/earthengine%20https%3A//www.googleapis.com/auth/devstorage.full_control&request_id=xSH_ErNYxG0Px49I_HJo1GSX4wGL2bP-Qg1TrSyjS7I&tc=OMDVDIYic7nfn3Gtw9t22ZC1KTcCzhOqNUP1il11RUc&cc=fPLY8DGemr6_PcdeGyZCXQt8OLdiJ7RJzP3LJTZBcjc>https://code.earthengine.google.com/client-auth?scopes=https%3A//www.googleapis.com/auth/earthengine%20https%3A//www.googleapis.com/auth/devstorage.full_control&request_id=xSH_ErNYxG0Px49I_HJo1GSX4wGL2bP-Qg1TrSyjS7I&tc=OMDVDIYic7nfn3Gtw9t22ZC1KTcCzhOqNUP1il11RUc&cc=fPLY8DGemr6_PcdeGyZCXQt8OLdiJ7RJzP3LJTZBcjc</a></p>\n",
       "        <p>The authorization workflow will generate a code, which you should paste in the box below.</p>\n",
       "        "
      ],
      "text/plain": [
       "<IPython.core.display.HTML object>"
      ]
     },
     "metadata": {},
     "output_type": "display_data"
    },
    {
     "name": "stdout",
     "output_type": "stream",
     "text": [
      "Enter verification code: 4/1AfJohXnhq2ahjRJ0nxOM2VjRtwXAtpGRXOo-m6a3xiDlIGIqYxSu4bquvSQ\n",
      "\n",
      "Successfully saved authorization token.\n"
     ]
    },
    {
     "name": "stderr",
     "output_type": "stream",
     "text": [
      "*** Earth Engine *** Share your feedback by taking our Annual Developer Satisfaction Survey: https://google.qualtrics.com/jfe/form/SV_doiqkQG3NJ1t8IS?source=API\n"
     ]
    }
   ],
   "source": [
    "# if you want to have a pop up sign in method instead please uncomment  on ee.Authenticate and ee.Initialize, but comment on below\n",
    "\n",
    "import ee\n",
    "\n",
    "# Trigger the authentication flow. if you want to user json, please comment this\n",
    "ee.Authenticate()\n",
    "# Initialize the library.\n",
    "ee.Initialize()\n",
    "\n",
    "# here we try to use json api information instead (service account) - comment below if you use above methode\n",
    "#import ee\n",
    "import math\n",
    "from datetime import datetime\n",
    "\n",
    "# uncomment this if you want to use json instead\n",
    "#service_account = 'iqbalpythonapi@bukit30project.iam.gserviceaccount.com'\n",
    "#credentials = ee.ServiceAccountCredentials(service_account, './bukit30project-4d92e5b46ea7.json')\n",
    "#ee.Initialize(credentials)"
   ]
  },
  {
   "cell_type": "code",
   "execution_count": 2,
   "id": "fa6e32c2",
   "metadata": {},
   "outputs": [],
   "source": [
    "import geemap\n",
    "\n",
    "# AOI File (SHP) - added shp_local: please make a folder in the main directory: shp_local and put here as an input (example) - shp local not publish to github\n",
    "AOIt_shp = './shp_local/AOI_B30.shp'\n",
    "AOIt_shp_plot = geemap.shp_to_ee(AOIt_shp)\n",
    "crs_input = 'EPSG:4326'\n",
    "\n",
    "AOI = AOIt_shp_plot"
   ]
  },
  {
   "cell_type": "code",
   "execution_count": 3,
   "id": "5a510213",
   "metadata": {},
   "outputs": [],
   "source": [
    "from osi.image_collection.main import ImageCollectionComposite\n",
    "\n",
    "# initiate instance class for the image collection and later mosaicking\n",
    "classInputCollection = ImageCollectionComposite(AOI=AOI, date_start_end=['2022-1-1',\"2022-12-31\"], cloud_cover_threshold = 40)\n"
   ]
  },
  {
   "cell_type": "code",
   "execution_count": 4,
   "id": "d687499d",
   "metadata": {},
   "outputs": [
    {
     "name": "stdout",
     "output_type": "stream",
     "text": [
      "selecting LANDSAT images\n"
     ]
    }
   ],
   "source": [
    "image_landsat_collection_mask = classInputCollection.merging_collection_landsat()"
   ]
  },
  {
   "cell_type": "code",
   "execution_count": 5,
   "id": "f056dc8d",
   "metadata": {},
   "outputs": [],
   "source": [
    "image_landsat_cloudless_composite = image_landsat_collection_mask.median().clip(AOI)"
   ]
  },
  {
   "cell_type": "code",
   "execution_count": 6,
   "id": "dc0a10dc",
   "metadata": {},
   "outputs": [],
   "source": [
    "Map = geemap.Map(center=(-3, 115), zoom=4)\n",
    "Map.centerObject(AOI, 10)"
   ]
  },
  {
   "cell_type": "code",
   "execution_count": 7,
   "id": "a6bb5cf8",
   "metadata": {},
   "outputs": [],
   "source": [
    "# Map.addLayer(image_landsat_cloudless_composite,{'bands': ['swir2', 'nir', 'red'], 'min': 0, 'max': 0.6, 'gamma': 1.5 }, 'landsat_for_FCD_2023_uncorrected')"
   ]
  },
  {
   "cell_type": "code",
   "execution_count": 8,
   "id": "f4c8232e",
   "metadata": {},
   "outputs": [],
   "source": [
    "image_planet_clip = classInputCollection.merging_collection_planet('asia').median().clip(AOI)"
   ]
  },
  {
   "cell_type": "code",
   "execution_count": 9,
   "id": "7cf28cdb",
   "metadata": {},
   "outputs": [],
   "source": [
    "# ADDING VISUAL FOR CHECKING AND VERIFY THE RESULT\n",
    "visPlanet_veg = {\"bands\":[\"red\",\"nir\",\"blue\"],\"min\":0,\"max\":0.6,\"gamma\":1.5}\n",
    "truePlanet_veg = {\"bands\":[\"red\",\"green\",\"blue\"],\"min\":0,\"max\":0.6,\"gamma\":1.5}\n",
    "\n",
    "# Map.addLayer(image_planet_clip, visPlanet_veg , 'NICFI Cloudless Image - RNB', False)\n",
    "# Map.addLayer(image_planet_clip, truePlanet_veg , 'NICFI Cloudless Image - RGB')"
   ]
  },
  {
   "cell_type": "code",
   "execution_count": 10,
   "id": "9480b77d",
   "metadata": {},
   "outputs": [],
   "source": [
    "from osi.image_collection.topographic_correction import doPhysicalCorrection\n",
    "\n",
    "image_corrected_composite_landsat = image_landsat_collection_mask.map(lambda image: doPhysicalCorrection(image, \n",
    "                                                                                                         type_DEM='srtm', \n",
    "                                                                                                         I_satellite='LANDSAT')) \\\n",
    "                                                                                                         .median().clip(AOI)"
   ]
  },
  {
   "cell_type": "code",
   "execution_count": 11,
   "id": "5b00bdec",
   "metadata": {},
   "outputs": [],
   "source": [
    "Map.addLayer(image_corrected_composite_landsat,{'bands': ['swir2', 'nir', 'red'], 'min': 0, 'max': 0.6, 'gamma': 1.5 }, f'landsat_for_FCD_2023_corrected')\n",
    "    "
   ]
  },
  {
   "cell_type": "code",
   "execution_count": 12,
   "id": "15fe1b09",
   "metadata": {},
   "outputs": [],
   "source": [
    "from osi.spectral_indices.dn_spectral import SpectralAnalysis\n",
    "\n",
    "classImageSpectral = SpectralAnalysis(image_corrected_composite_landsat, AOI = AOI, I_satellite= 'LANDSAT', pca_scaling = 1, tileScale = 1)\n"
   ]
  },
  {
   "cell_type": "code",
   "execution_count": 13,
   "id": "7ff582f3",
   "metadata": {},
   "outputs": [],
   "source": [
    "avi_image = classImageSpectral.AVI_func()"
   ]
  },
  {
   "cell_type": "code",
   "execution_count": 14,
   "id": "3c3c85e8",
   "metadata": {},
   "outputs": [],
   "source": [
    "Map.addLayer(avi_image,{},'avi')"
   ]
  },
  {
   "cell_type": "code",
   "execution_count": 15,
   "id": "c7f73fd3",
   "metadata": {},
   "outputs": [],
   "source": [
    "Map.addLayerControl()"
   ]
  },
  {
   "cell_type": "code",
   "execution_count": 16,
   "id": "556679f7",
   "metadata": {},
   "outputs": [
    {
     "data": {
      "application/vnd.jupyter.widget-view+json": {
       "model_id": "6959466e381b4b3bba5823987aeff9de",
       "version_major": 2,
       "version_minor": 0
      },
      "text/plain": [
       "Map(center=[-1.0232057340644143, 102.432211047781], controls=(WidgetControl(options=['position', 'transparent_…"
      ]
     },
     "execution_count": 16,
     "metadata": {},
     "output_type": "execute_result"
    }
   ],
   "source": [
    "Map"
   ]
  },
  {
   "cell_type": "code",
   "execution_count": null,
   "id": "b00c221b",
   "metadata": {},
   "outputs": [],
   "source": []
  },
  {
   "cell_type": "code",
   "execution_count": null,
   "id": "ce942f5c",
   "metadata": {},
   "outputs": [],
   "source": [
    "from lib_module.spectral_indices import main"
   ]
  },
  {
   "cell_type": "code",
   "execution_count": null,
   "id": "dc1123ac",
   "metadata": {},
   "outputs": [],
   "source": [
    "adding = main.adding_all(5)"
   ]
  },
  {
   "cell_type": "code",
   "execution_count": null,
   "id": "78e53daa",
   "metadata": {},
   "outputs": [],
   "source": [
    "adding"
   ]
  }
 ],
 "metadata": {
  "kernelspec": {
   "display_name": "Python 3 (ipykernel)",
   "language": "python",
   "name": "python3"
  },
  "language_info": {
   "codemirror_mode": {
    "name": "ipython",
    "version": 3
   },
   "file_extension": ".py",
   "mimetype": "text/x-python",
   "name": "python",
   "nbconvert_exporter": "python",
   "pygments_lexer": "ipython3",
   "version": "3.11.3"
  }
 },
 "nbformat": 4,
 "nbformat_minor": 5
}
