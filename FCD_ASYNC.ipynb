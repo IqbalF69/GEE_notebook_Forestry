{
 "cells": [
  {
   "cell_type": "code",
   "execution_count": 1,
   "id": "138a35d3",
   "metadata": {},
   "outputs": [
    {
     "data": {
      "text/html": [
       "<p>To authorize access needed by Earth Engine, open the following\n",
       "        URL in a web browser and follow the instructions:</p>\n",
       "        <p><a href=https://code.earthengine.google.com/client-auth?scopes=https%3A//www.googleapis.com/auth/earthengine%20https%3A//www.googleapis.com/auth/devstorage.full_control&request_id=M5RYzRodeB8Awtm6tix3SXMzRxzLBOO54OC9jOnQ7o4&tc=TJ8AjLIcOhT-Jo3EuCUXeulMNf6Ntp8dN-FyaMmfjKg&cc=pTHNKpu6jJ3_PJn2oR0pupPoyvpbU2nfYOJZ8wQsA30>https://code.earthengine.google.com/client-auth?scopes=https%3A//www.googleapis.com/auth/earthengine%20https%3A//www.googleapis.com/auth/devstorage.full_control&request_id=M5RYzRodeB8Awtm6tix3SXMzRxzLBOO54OC9jOnQ7o4&tc=TJ8AjLIcOhT-Jo3EuCUXeulMNf6Ntp8dN-FyaMmfjKg&cc=pTHNKpu6jJ3_PJn2oR0pupPoyvpbU2nfYOJZ8wQsA30</a></p>\n",
       "        <p>The authorization workflow will generate a code, which you should paste in the box below.</p>\n",
       "        "
      ],
      "text/plain": [
       "<IPython.core.display.HTML object>"
      ]
     },
     "metadata": {},
     "output_type": "display_data"
    },
    {
     "name": "stdout",
     "output_type": "stream",
     "text": [
      "Enter verification code: 4/1Adeu5BXIsPLJFCOf4d-YXMPBpoOhzDnPrfC1N23OSBB-QHqWXU9f5DSagkA\n",
      "\n",
      "Successfully saved authorization token.\n"
     ]
    }
   ],
   "source": [
    "# if you want to have a pop up sign in method instead please uncomment  on ee.Authenticate and ee.Initialize, but comment on below\n",
    "\n",
    "import ee\n",
    "\n",
    "# Trigger the authentication flow. if you want to user json, please comment this\n",
    "ee.Authenticate()\n",
    "# Initialize the library.\n",
    "ee.Initialize()\n",
    "\n",
    "# here we try to use json api information instead (service account) - comment below if you use above methode\n",
    "#import ee\n",
    "import math\n",
    "from datetime import datetime\n",
    "\n",
    "# uncomment this if you want to use json instead\n",
    "#service_account = 'iqbalpythonapi@bukit30project.iam.gserviceaccount.com'\n",
    "#credentials = ee.ServiceAccountCredentials(service_account, './bukit30project-4d92e5b46ea7.json')\n",
    "#ee.Initialize(credentials)"
   ]
  },
  {
   "cell_type": "code",
   "execution_count": null,
   "id": "dfdd5024",
   "metadata": {},
   "outputs": [],
   "source": [
    "import geemap#.foliumap as geemap\n",
    "import geopandas as gpd\n",
    "import numpy as np\n",
    "from sklearn.metrics import confusion_matrix\n",
    "\n"
   ]
  }
 ],
 "metadata": {
  "kernelspec": {
   "display_name": "Python 3 (ipykernel)",
   "language": "python",
   "name": "python3"
  },
  "language_info": {
   "codemirror_mode": {
    "name": "ipython",
    "version": 3
   },
   "file_extension": ".py",
   "mimetype": "text/x-python",
   "name": "python",
   "nbconvert_exporter": "python",
   "pygments_lexer": "ipython3",
   "version": "3.11.4"
  }
 },
 "nbformat": 4,
 "nbformat_minor": 5
}
