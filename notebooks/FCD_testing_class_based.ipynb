{
 "cells": [
  {
   "cell_type": "code",
   "execution_count": 1,
   "id": "66fa87a6",
   "metadata": {},
   "outputs": [
    {
     "data": {
      "text/html": [
       "<p>To authorize access needed by Earth Engine, open the following\n",
       "        URL in a web browser and follow the instructions:</p>\n",
       "        <p><a href=https://code.earthengine.google.com/client-auth?scopes=https%3A//www.googleapis.com/auth/earthengine%20https%3A//www.googleapis.com/auth/devstorage.full_control&request_id=YbAT0LtZalVYg5gEks93WwO4Oh3kni0xOmHdVgO7REE&tc=31EbCSSyfJazleTFxNVekex922ex8ye6kQWbYw7ymmI&cc=4YezNSEe1Ly6EPh-OzEm4_0g7e2ZMqyiVFuZBChFcUA>https://code.earthengine.google.com/client-auth?scopes=https%3A//www.googleapis.com/auth/earthengine%20https%3A//www.googleapis.com/auth/devstorage.full_control&request_id=YbAT0LtZalVYg5gEks93WwO4Oh3kni0xOmHdVgO7REE&tc=31EbCSSyfJazleTFxNVekex922ex8ye6kQWbYw7ymmI&cc=4YezNSEe1Ly6EPh-OzEm4_0g7e2ZMqyiVFuZBChFcUA</a></p>\n",
       "        <p>The authorization workflow will generate a code, which you should paste in the box below.</p>\n",
       "        "
      ],
      "text/plain": [
       "<IPython.core.display.HTML object>"
      ]
     },
     "metadata": {},
     "output_type": "display_data"
    },
    {
     "name": "stdout",
     "output_type": "stream",
     "text": [
      "Enter verification code: 4/1AfJohXlbyewkFyIyLKkCrFSo4FM7D_TwvwC026Nx_BdQ2HKFF75XAcvOq94\n",
      "\n",
      "Successfully saved authorization token.\n"
     ]
    },
    {
     "name": "stderr",
     "output_type": "stream",
     "text": [
      "*** Earth Engine *** Share your feedback by taking our Annual Developer Satisfaction Survey: https://google.qualtrics.com/jfe/form/SV_doiqkQG3NJ1t8IS?source=API\n"
     ]
    }
   ],
   "source": [
    "# if you want to have a pop up sign in method instead please uncomment  on ee.Authenticate and ee.Initialize, but comment on below\n",
    "\n",
    "import ee\n",
    "\n",
    "# Trigger the authentication flow. if you want to user json, please comment this\n",
    "ee.Authenticate()\n",
    "# Initialize the library.\n",
    "ee.Initialize()\n",
    "\n",
    "# here we try to use json api information instead (service account) - comment below if you use above methode\n",
    "#import ee\n",
    "import math\n",
    "from datetime import datetime\n",
    "\n",
    "# uncomment this if you want to use json instead\n",
    "#service_account = 'iqbalpythonapi@bukit30project.iam.gserviceaccount.com'\n",
    "#credentials = ee.ServiceAccountCredentials(service_account, './bukit30project-4d92e5b46ea7.json')\n",
    "#ee.Initialize(credentials)"
   ]
  },
  {
   "cell_type": "code",
   "execution_count": 2,
   "id": "fa6e32c2",
   "metadata": {},
   "outputs": [],
   "source": [
    "import geemap\n",
    "\n",
    "# AOI File (SHP) - added shp_local: please make a folder in the main directory: shp_local and put here as an input (example) - shp local not publish to github\n",
    "# AOIt_shp = './shp_local/AOI_B30.shp'\n",
    "AOIt_shp = './shp_local/aoi_b30_smaller.shp'\n",
    "AOIt_shp_plot = geemap.shp_to_ee(AOIt_shp)\n",
    "crs_input = 'EPSG:4326'\n",
    "\n",
    "AOI = AOIt_shp_plot"
   ]
  },
  {
   "cell_type": "code",
   "execution_count": 3,
   "id": "5a510213",
   "metadata": {},
   "outputs": [],
   "source": [
    "from backend.sv_carbon_removal.gee_lib.osi.image_collection.image_collection_composite import ImageCollectionComposite\n",
    "\n",
    "# initiate instance class for the image collection and later mosaicking\n",
    "classInputCollection = ImageCollectionComposite(AOI=AOI, date_start_end=['2022-1-1',\"2022-12-31\"], cloud_cover_threshold = 40)\n"
   ]
  },
  {
   "cell_type": "code",
   "execution_count": 4,
   "id": "d687499d",
   "metadata": {},
   "outputs": [
    {
     "name": "stdout",
     "output_type": "stream",
     "text": [
      "selecting LANDSAT images\n"
     ]
    }
   ],
   "source": [
    "image_landsat_collection_mask = classInputCollection.merging_collection_landsat()"
   ]
  },
  {
   "cell_type": "code",
   "execution_count": 5,
   "id": "f056dc8d",
   "metadata": {},
   "outputs": [],
   "source": [
    "image_landsat_cloudless_composite = image_landsat_collection_mask.median().clip(AOI)"
   ]
  },
  {
   "cell_type": "code",
   "execution_count": 6,
   "id": "dc0a10dc",
   "metadata": {},
   "outputs": [],
   "source": [
    "Map = geemap.Map(center=(-3, 115), zoom=4)\n",
    "Map.centerObject(AOI, 10)"
   ]
  },
  {
   "cell_type": "code",
   "execution_count": 7,
   "id": "a6bb5cf8",
   "metadata": {},
   "outputs": [],
   "source": [
    "# Map.addLayer(image_landsat_cloudless_composite,{'bands': ['swir2', 'nir', 'red'], 'min': 0, 'max': 0.6, 'gamma': 1.5 }, 'landsat_for_FCD_2023_uncorrected')"
   ]
  },
  {
   "cell_type": "code",
   "execution_count": 8,
   "id": "f4c8232e",
   "metadata": {},
   "outputs": [],
   "source": [
    "image_planet_clip = classInputCollection.merging_collection_planet('asia').median().clip(AOI)"
   ]
  },
  {
   "cell_type": "code",
   "execution_count": 9,
   "id": "7cf28cdb",
   "metadata": {},
   "outputs": [],
   "source": [
    "# ADDING VISUAL FOR CHECKING AND VERIFY THE RESULT\n",
    "visPlanet_veg = {\"bands\":[\"red\",\"nir\",\"blue\"],\"min\":0,\"max\":0.6,\"gamma\":1.5}\n",
    "truePlanet_veg = {\"bands\":[\"red\",\"green\",\"blue\"],\"min\":0,\"max\":0.6,\"gamma\":1.5}\n",
    "\n",
    "# Map.addLayer(image_planet_clip, visPlanet_veg , 'NICFI Cloudless Image - RNB', False)\n",
    "# Map.addLayer(image_planet_clip, truePlanet_veg , 'NICFI Cloudless Image - RGB')"
   ]
  },
  {
   "cell_type": "code",
   "execution_count": 10,
   "id": "9480b77d",
   "metadata": {},
   "outputs": [],
   "source": [
    "from osi.image_collection.topographic_correction import doPhysicalCorrection\n",
    "\n",
    "image_corrected_composite_landsat = image_landsat_collection_mask.map(lambda image: doPhysicalCorrection(image, \n",
    "                                                                                                         type_DEM='srtm', \n",
    "                                                                                                         I_satellite='LANDSAT')) \\\n",
    "                                                                                                         .median().clip(AOI)"
   ]
  },
  {
   "cell_type": "code",
   "execution_count": 11,
   "id": "5b00bdec",
   "metadata": {},
   "outputs": [],
   "source": [
    "Map.addLayer(image_corrected_composite_landsat,{'bands': ['swir2', 'nir', 'red'], 'min': 0, 'max': 0.6, 'gamma': 1.5 }, f'landsat_for_FCD_2023_corrected')\n",
    "    "
   ]
  },
  {
   "cell_type": "code",
   "execution_count": 12,
   "id": "15fe1b09",
   "metadata": {},
   "outputs": [],
   "source": [
    "from backend.sv_carbon_removal.gee_lib.osi.spectral_indices.spectral_analysis import SpectralAnalysis\n",
    "\n",
    "classImageSpectral = SpectralAnalysis(image_corrected_composite_landsat, AOI = AOI, I_satellite= 'LANDSAT', pca_scaling = 1, tileScale = 1)\n"
   ]
  },
  {
   "cell_type": "code",
   "execution_count": 13,
   "id": "7ff582f3",
   "metadata": {},
   "outputs": [],
   "source": [
    "avi_image = classImageSpectral.AVI_func()"
   ]
  },
  {
   "cell_type": "code",
   "execution_count": 14,
   "id": "3c3c85e8",
   "metadata": {},
   "outputs": [],
   "source": [
    "Map.addLayer(avi_image,{},'avi')"
   ]
  },
  {
   "cell_type": "code",
   "execution_count": 15,
   "id": "c7f73fd3",
   "metadata": {},
   "outputs": [],
   "source": [
    "Map.addLayerControl()"
   ]
  },
  {
   "cell_type": "code",
   "execution_count": 16,
   "id": "f5af3834",
   "metadata": {},
   "outputs": [],
   "source": [
    "seeds = ee.Algorithms.Image.Segmentation.seedGrid(36)\n",
    "\n",
    "# Run SNIC on the regular square grid. # LANDSAT\n",
    "snic = ee.Algorithms.Image.Segmentation.SNIC(\n",
    "  image = image_corrected_composite_landsat, \n",
    "  size=4,\n",
    "  compactness=2,\n",
    "  connectivity=4,\n",
    "  neighborhoodSize=8,\n",
    "  seeds=seeds\n",
    ").select(['red_mean', 'green_mean', 'blue_mean', 'nir_mean', 'swir1_mean', 'swir2_mean', 'clusters'],['red', 'green', 'blue', 'nir', 'swir1' ,'swir2','clusters'])\n",
    "\n",
    "clusters = snic.select('clusters')\n",
    "# Map.addLayer(clusters.randomVisualizer(), {}, 'clusters')"
   ]
  },
  {
   "cell_type": "code",
   "execution_count": 17,
   "id": "ee9cd60f",
   "metadata": {},
   "outputs": [],
   "source": [
    "Map.addLayer(snic, {\"bands\": ['swir2', 'nir', 'red'], min:0, max:1, \"gamma\": 0.8}, 'means')"
   ]
  },
  {
   "cell_type": "code",
   "execution_count": 18,
   "id": "ee79327b",
   "metadata": {},
   "outputs": [],
   "source": [
    "classImageSpectral_snic = SpectralAnalysis(snic, AOI = AOI, I_satellite= 'LANDSAT', pca_scaling = 1, tileScale = 1)\n"
   ]
  },
  {
   "cell_type": "code",
   "execution_count": 19,
   "id": "582dc76d",
   "metadata": {},
   "outputs": [],
   "source": [
    "avi_image_2 = classImageSpectral_snic.AVI_func()"
   ]
  },
  {
   "cell_type": "code",
   "execution_count": 20,
   "id": "aaf10a99",
   "metadata": {},
   "outputs": [],
   "source": [
    "bsi_image = classImageSpectral_snic.BSI_func()\n",
    "\n",
    "si_image = classImageSpectral_snic.SI_func()"
   ]
  },
  {
   "cell_type": "code",
   "execution_count": 21,
   "id": "046f26d3",
   "metadata": {},
   "outputs": [],
   "source": [
    "# generated the existing pca_scale based on the class assigned\n",
    "pca_scale = classImageSpectral_snic.pca_scale"
   ]
  },
  {
   "cell_type": "code",
   "execution_count": 22,
   "id": "8ba58a18",
   "metadata": {},
   "outputs": [],
   "source": [
    "from osi.spectral_indices.utils import normalization_100\n",
    "\n",
    "avi_norm = normalization_100(avi_image_2, pca_scale=pca_scale, AOI=AOI)"
   ]
  },
  {
   "cell_type": "code",
   "execution_count": 23,
   "id": "5708e332",
   "metadata": {},
   "outputs": [],
   "source": [
    "Map.addLayer(avi_image_2,{},'avi_2')"
   ]
  },
  {
   "cell_type": "code",
   "execution_count": 24,
   "id": "f7dbafc4",
   "metadata": {},
   "outputs": [],
   "source": [
    "Map.addLayer(avi_norm,{'min':0,'max':100}, 'avi_norm')"
   ]
  },
  {
   "cell_type": "code",
   "execution_count": 25,
   "id": "a5d01af8",
   "metadata": {},
   "outputs": [
    {
     "name": "stdout",
     "output_type": "stream",
     "text": [
      "Normalizing to 100 SI\n",
      "Combining AVI AND BSI\n"
     ]
    }
   ],
   "source": [
    "bsi_norm = normalization_100(bsi_image, pca_scale=pca_scale, AOI=AOI)\n",
    "Map.addLayer(bsi_norm,{'min':0,'max':100},'bsi_norm')\n",
    "print('Normalizing to 100 SI')\n",
    "si_norm = normalization_100(si_image, pca_scale=pca_scale, AOI=AOI)\n",
    "Map.addLayer(si_norm, {'min':0,'max':100},'si_norm')\n",
    "print('Combining AVI AND BSI')\n"
   ]
  },
  {
   "cell_type": "code",
   "execution_count": 26,
   "id": "e48a778a",
   "metadata": {},
   "outputs": [],
   "source": [
    "# Combine  AVI and BSI to one image with two bands \n",
    "AVI_BSI = avi_norm.addBands(bsi_norm)\n",
    "# Masked-out process or remove null data, to avoid errors\n",
    "avi_bsi_clean = AVI_BSI.gte(0).Or(AVI_BSI.lte(0))\n",
    "AVI_BSI = AVI_BSI.updateMask(avi_bsi_clean)"
   ]
  },
  {
   "cell_type": "code",
   "execution_count": 27,
   "id": "9dc468bb",
   "metadata": {},
   "outputs": [],
   "source": [
    "#### PRINCIPAL COMPONENT ANALYSIS ########\n",
    "# adapted from https://developers.google.com/earth-engine/guides/arrays_eigen_analysis\n",
    "# Define the mean-centered function\n",
    "def means_centered(image, region, scale, tileScale):\n",
    "    bandNames = image.bandNames()\n",
    "\n",
    "    # Mean center the data\n",
    "    meanDict = image.reduceRegion(\n",
    "        reducer=ee.Reducer.mean(),\n",
    "        geometry=region,\n",
    "        scale=scale,\n",
    "        maxPixels=1e9,\n",
    "        tileScale=tileScale,\n",
    "        bestEffort=True,\n",
    "    )\n",
    "    means = ee.Image.constant(meanDict.values(bandNames))\n",
    "    centered = image.subtract(means)\n",
    "\n",
    "    return [centered, bandNames]\n",
    "\n",
    "# Define the helper function to generate new band names\n",
    "def getNewBandNames(prefix, bandNames):\n",
    "    seq = ee.List.sequence(1, bandNames.length())\n",
    "    return seq.map(lambda b: ee.String(prefix).cat(ee.Number(b).int().format()))\n",
    "\n",
    "# Define the function to get principal components\n",
    "def getPrincipalComponents(centered, scale, region, bandNames):\n",
    "    # Collapse the bands into a 1D array per pixel\n",
    "    arrays = centered.toArray()\n",
    "\n",
    "    # Compute the covariance within the region\n",
    "    covar = arrays.reduceRegion(\n",
    "        reducer=ee.Reducer.centeredCovariance(),\n",
    "        geometry=region,\n",
    "        scale=scale,\n",
    "        maxPixels=1e9,\n",
    "        tileScale=tileScale,\n",
    "        bestEffort=True,\n",
    "        \n",
    "    )\n",
    "\n",
    "    # Get the covariance array result and cast to an array\n",
    "    covarArray = ee.Array(covar.get('array'))\n",
    "\n",
    "    # Perform eigen analysis and slice apart the values and vectors\n",
    "    eigens = covarArray.eigen()\n",
    "\n",
    "    # Extract eigenvalues and eigenvectors\n",
    "    eigenValues = eigens.slice(1, 0, 1)\n",
    "    eigenVectors = eigens.slice(1, 1)\n",
    "\n",
    "    # Convert the array image to 2D arrays\n",
    "    arrayImage = arrays.toArray(1)\n",
    "\n",
    "    # Left multiply the image array by the matrix of eigenvectors\n",
    "    principalComponents = ee.Image(eigenVectors).matrixMultiply(arrayImage)\n",
    "\n",
    "    # Square root of eigenvalues as a P-band image\n",
    "    sdImage = ee.Image(eigenValues.sqrt()) \\\n",
    "        .arrayProject([0]).arrayFlatten([getNewBandNames('sd', bandNames)])\n",
    "\n",
    "    # Normalize the principal components by their standard deviations\n",
    "    return principalComponents \\\n",
    "        .arrayProject([0]) \\\n",
    "        .arrayFlatten([getNewBandNames('pc', bandNames)]) \\\n",
    "        .divide(sdImage)"
   ]
  },
  {
   "cell_type": "code",
   "execution_count": 28,
   "id": "41e685c9",
   "metadata": {},
   "outputs": [],
   "source": [
    "tileScale = classImageSpectral_snic.tileScale"
   ]
  },
  {
   "cell_type": "code",
   "execution_count": 29,
   "id": "286d52fb",
   "metadata": {},
   "outputs": [
    {
     "name": "stdout",
     "output_type": "stream",
     "text": [
      "Processing means center of AVI_BSI please wait\n",
      "Now we proceed to the PCA of Vegetation density\n",
      "Success get the PCA normalized of VD => SVI\n"
     ]
    }
   ],
   "source": [
    "print('Processing means center of AVI_BSI please wait')\n",
    "# Means Centered for VD --- VD WILL GIVE YOU ERROR ---> if you dont masked out first\n",
    "Means_cn = means_centered(AVI_BSI, AOI, pca_scale, tileScale)\n",
    "#print('Means_cn[0]',Means_cn[0])\n",
    "#print('Means_cn[1]',Means_cn[1])\n",
    "\n",
    "print('Now we proceed to the PCA of Vegetation density')\n",
    "# PCA FOR AVI AND BSI = VD and SVI\n",
    "VD = getPrincipalComponents(Means_cn[0], pca_scale, AOI, Means_cn[1]).rename(['VD1', 'VD2'])\n",
    "#Map.addLayer(VD,{},'VD')\n",
    "# scale VD datasets \n",
    "SVI = normalization_100(VD,pca_scale=pca_scale, AOI=AOI)\n",
    "Map.addLayer(SVI,{'min':0,'max':100},'SVI', False)\n",
    "print('Success get the PCA normalized of VD => SVI')"
   ]
  },
  {
   "cell_type": "code",
   "execution_count": 30,
   "id": "556679f7",
   "metadata": {},
   "outputs": [
    {
     "data": {
      "application/vnd.jupyter.widget-view+json": {
       "model_id": "8fb34d491c384fd4b384d5952b1d9343",
       "version_major": 2,
       "version_minor": 0
      },
      "text/plain": [
       "Map(center=[-1.0750537908647946, 102.44795563556586], controls=(WidgetControl(options=['position', 'transparen…"
      ]
     },
     "execution_count": 30,
     "metadata": {},
     "output_type": "execute_result"
    }
   ],
   "source": [
    "Map"
   ]
  },
  {
   "cell_type": "code",
   "execution_count": null,
   "id": "b00c221b",
   "metadata": {},
   "outputs": [],
   "source": []
  }
 ],
 "metadata": {
  "kernelspec": {
   "display_name": "Python 3 (ipykernel)",
   "language": "python",
   "name": "python3"
  },
  "language_info": {
   "codemirror_mode": {
    "name": "ipython",
    "version": 3
   },
   "file_extension": ".py",
   "mimetype": "text/x-python",
   "name": "python",
   "nbconvert_exporter": "python",
   "pygments_lexer": "ipython3",
   "version": "3.11.3"
  }
 },
 "nbformat": 4,
 "nbformat_minor": 5
}
