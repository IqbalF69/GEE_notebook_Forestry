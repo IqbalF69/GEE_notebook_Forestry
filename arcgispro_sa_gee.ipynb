{
 "cells": [
  {
   "cell_type": "code",
   "execution_count": 1,
   "metadata": {},
   "outputs": [],
   "source": [
    "# !pip install earthengine-api"
   ]
  },
  {
   "cell_type": "code",
   "execution_count": 2,
   "metadata": {},
   "outputs": [],
   "source": [
    "import ee"
   ]
  },
  {
   "cell_type": "code",
   "execution_count": 3,
   "metadata": {},
   "outputs": [],
   "source": [
    "# Trigger the authentication flow. if you want to user json, please comment this\n",
    "ee.Authenticate()\n",
    "# Initialize the library\n",
    "# ee.Initialize(project='bukit30project')\n",
    "ee.Initialize(project='ee-iwansetiawan')"
   ]
  },
  {
   "cell_type": "code",
   "execution_count": 4,
   "metadata": {},
   "outputs": [],
   "source": [
    "# !pip install geemap"
   ]
  },
  {
   "cell_type": "code",
   "execution_count": 5,
   "metadata": {},
   "outputs": [],
   "source": [
    "import sys\n",
    "import os\n",
    "\n",
    "# Connect to the path of the module\n",
    "module_path = r'C:\\Users\\q_bal\\Documents\\Github\\GEE_notebook_Forestry'\n",
    "\n",
    "# Add the module path to sys.path\n",
    "if module_path not in sys.path:\n",
    "    sys.path.append(module_path)"
   ]
  },
  {
   "cell_type": "code",
   "execution_count": 6,
   "metadata": {},
   "outputs": [],
   "source": [
    "# sys.path"
   ]
  },
  {
   "cell_type": "code",
   "execution_count": 7,
   "metadata": {},
   "outputs": [],
   "source": [
    "#testing\n",
    "import osi"
   ]
  },
  {
   "cell_type": "code",
   "execution_count": 8,
   "metadata": {},
   "outputs": [],
   "source": [
    "# !pip install pycrs"
   ]
  },
  {
   "cell_type": "code",
   "execution_count": 9,
   "metadata": {},
   "outputs": [],
   "source": [
    "# variables\n",
    "# assigning variable, input for the analysis\n",
    "############ VARIABLE INPUT ##########################################################################\n",
    "start_date = '2023-6-1'\n",
    "end_date = \"2023-6-30\"\n",
    "\n",
    "project_name = 'delight_landscape'\n",
    "map_name_arcgis_pro = 'Uganda'\n",
    "\n",
    "# for planet labs image\n",
    "region = 'africa' # or you can use 'asia'\n",
    "\n",
    "create_training_gee = False\n",
    "\n",
    "# cloud cover threshold, max per image, in image collection\n",
    "cloud_cover_threshold = 40\n",
    "\n",
    "# AOIt_shp_plot = geemap.shp_to_ee(AOIt_shp)\n",
    "crs_input = 'EPSG:4326'\n",
    "\n",
    "# choose the satellite image you want to use\n",
    "I_satellite = 'Planet' # or 'Planet' or 'Sentinel'\n",
    "\n",
    "#NDWI water limit\n",
    "ndwi_hi_sentinel = 0.05 # for Sentinel\n",
    "ndwi_hi_landsat = 0.1 # for landsat\n",
    "ndwi_hi_planet = -0.2 # for Planet Labs\n",
    "\n",
    "ndwi_hi = 0.1\n",
    "if I_satellite == 'Landsat':\n",
    "    ndwi_hi = ndwi_hi_landsat\n",
    "elif I_satellite == 'Sentinel':\n",
    "    ndwi_hi = ndwi_hi_sentinel\n",
    "elif I_satellite == 'Planet':\n",
    "    ndwi_hi = ndwi_hi_planet\n",
    "\n",
    "pca_scaling = 1  # 1 meaning that 1 x pixel size of spatial resolution e.g., Planet Labs 1 x 5, Sentinel 1 x 10, Landsat 1 x 30\n",
    "tileScale = 1 # increase this if user memory limit occur, see: https://gis.stackexchange.com/questions/373250/understanding-tilescale-in-earth-engine\n",
    "\n",
    "######## HANSEN Tree Cover and Tree Cover Loss Input - Historical Data Check (10 Years Rule) ###################################################\n",
    "# Hansen 10 years rule and Forest - Tree Cover Hansen\n",
    "# define tree cover minimum that classified as forest e.g., Indonesia > 30%, hence 30\n",
    "tree_cover_forest = 30 # this will be in percent, let's say, forest is > 30% if you put 30\n",
    "pixel_number = 3 #define minimum mapping unit classified as forest, 1 pixel for landsat 30mx30, 3 pixel is forest ~> 0.27 Ha\n",
    "year_start_loss = 14 #define start year to track as 10 years rule (e.g., 2012 to 2022 (track 10 years rule), hence 12. format= 00->2000, 12->2012)\n",
    "\n",
    "\n",
    "## FCD Threshold\n",
    "high_forest = 75\n",
    "yrf_forest = 55\n",
    "shrub_grass = 45\n",
    "open_land = 30\n",
    "\n",
    "# output Band Names\n",
    "band_name_image = 'Class'\n",
    "\n",
    "# ADD FIRST AOI TO ARCGIS MAP - option-1 in using existing shp to geemap\n",
    "aoi_layer_name_in_map_arcgis = 'aoi_extent_delight'\n",
    "\n",
    "# USE THE PATH FOR TRAINING DATA - option-2 in using existing shp to geemap\n",
    "path_shp_input_training = r'G:\\Shared drives\\TREEO BD Supply\\02. UGA\\01. TPPs\\03. Delight Ltd\\Due Diligence\\2024_07_24_Updated_Satellite_Assessment\\raw_data_shp_script\\00_input\\training_aoi_smaller.shp'"
   ]
  },
  {
   "cell_type": "code",
   "execution_count": 11,
   "metadata": {},
   "outputs": [
    {
     "name": "stdout",
     "output_type": "stream",
     "text": [
      "all_maps in project: ['Google Earth 2012', 'Flonares', 'Layers', 'Layers1', 'Layers2', 'Layers3', 'Layers4', 'KarakApung', 'MapDraftJustAnalysis', 'FSF', 'drafting_analysis', 'SRA', 'Map', 'STIHL_Request_futurecamp_FVW_UGA', 'Flonares_new_analysis', 'STIHL_FVW_IDN', 'eligibility_check_prospective_tpps', 'Map1', 'New Data Frame', 'New Data Frame 2', 'New Data Frame 21', 'New Data Frame 22', 'New Data Frame 23', 'New Data Frame 24', 'New Data Frame 25', 'New Data Frame 3', 'T4T_CSU', 'STIHL_Request_futurecamp_FVW_IDN', 'Uganda', 'T4T_Inset', 'T4T_Analysis', 'T4T_Layout_replant_first']\n",
      "we will select the map for Uganda\n"
     ]
    },
    {
     "ename": "NameError",
     "evalue": "name 'layer' is not defined",
     "output_type": "error",
     "traceback": [
      "\u001b[1;31m---------------------------------------------------------------------------\u001b[0m",
      "\u001b[1;31mNameError\u001b[0m                                 Traceback (most recent call last)",
      "\u001b[1;32m~\\AppData\\Local\\Temp\\ipykernel_2440\\181563537.py\u001b[0m in \u001b[0;36m<cell line: 0>\u001b[1;34m()\u001b[0m\n\u001b[0;32m      9\u001b[0m \u001b[0marc_ops\u001b[0m\u001b[1;33m=\u001b[0m \u001b[0mArcpyOps\u001b[0m\u001b[1;33m(\u001b[0m\u001b[0mproject_path_arcgis\u001b[0m \u001b[1;33m=\u001b[0m \u001b[0mproject_path\u001b[0m\u001b[1;33m,\u001b[0m \u001b[0mmap_name_arcgis\u001b[0m\u001b[1;33m=\u001b[0m \u001b[0mmap_name_arcgis_pro\u001b[0m\u001b[1;33m)\u001b[0m\u001b[1;33m\u001b[0m\u001b[1;33m\u001b[0m\u001b[0m\n\u001b[0;32m     10\u001b[0m \u001b[0mlayer_aoi\u001b[0m \u001b[1;33m=\u001b[0m \u001b[0marc_ops\u001b[0m\u001b[1;33m.\u001b[0m\u001b[0mselecting_layer\u001b[0m\u001b[1;33m(\u001b[0m\u001b[0mname_layer\u001b[0m \u001b[1;33m=\u001b[0m \u001b[0maoi_layer_name_in_map_arcgis\u001b[0m\u001b[1;33m)\u001b[0m\u001b[1;33m\u001b[0m\u001b[1;33m\u001b[0m\u001b[0m\n\u001b[1;32m---> 11\u001b[1;33m \u001b[0mAOIt_shp\u001b[0m \u001b[1;33m=\u001b[0m \u001b[0mlayer\u001b[0m\u001b[1;33m.\u001b[0m\u001b[0mdataSource\u001b[0m\u001b[1;33m\u001b[0m\u001b[1;33m\u001b[0m\u001b[0m\n\u001b[0m\u001b[0;32m     12\u001b[0m \u001b[0mprint\u001b[0m\u001b[1;33m(\u001b[0m\u001b[0mAOIt_shp\u001b[0m\u001b[1;33m)\u001b[0m\u001b[1;33m\u001b[0m\u001b[1;33m\u001b[0m\u001b[0m\n\u001b[0;32m     13\u001b[0m \u001b[1;33m\u001b[0m\u001b[0m\n",
      "\u001b[1;31mNameError\u001b[0m: name 'layer' is not defined"
     ]
    }
   ],
   "source": [
    "# empower the capability of arcpy, native arcgis scripting from a class made\n",
    "from osi.arcpy.main import ArcpyOps\n",
    "import geemap\n",
    "\n",
    "# Open the currently active project, you can also refer to actual project path, comment here below, and activate after\n",
    "# project = arcpy.mp.ArcGISProject(\"CURRENT\")\n",
    "project_path = r'G:\\My Drive\\TreeO_WORKS\\GIS_data\\ArcGIS_Pro\\TREEO\\TREEO.aprx'\n",
    "# project = arcpy.mp.ArcGISProject(project_path)\n",
    "arc_ops= ArcpyOps(project_path_arcgis = project_path, map_name_arcgis= map_name_arcgis_pro)\n",
    "layer_aoi = arc_ops.selecting_layer(name_layer = aoi_layer_name_in_map_arcgis)\n",
    "AOIt_shp = layer_aoi.dataSource\n",
    "print(f'path of the AOI: {AOIt_shp}')\n",
    "\n",
    "##### AOI will be obtained its info directly from the project map in arcgisPro and convert that to ee object\n",
    "## option-1 if this data already been added\n",
    "AOI = geemap.shp_to_ee(AOIt_shp)"
   ]
  },
  {
   "cell_type": "code",
   "execution_count": 11,
   "metadata": {},
   "outputs": [
    {
     "data": {
      "text/html": [
       "\n",
       "            <style>\n",
       "                .geemap-dark {\n",
       "                    --jp-widgets-color: white;\n",
       "                    --jp-widgets-label-color: white;\n",
       "                    --jp-ui-font-color1: white;\n",
       "                    --jp-layout-color2: #454545;\n",
       "                    background-color: #383838;\n",
       "                }\n",
       "\n",
       "                .geemap-dark .jupyter-button {\n",
       "                    --jp-layout-color3: #383838;\n",
       "                }\n",
       "\n",
       "                .geemap-colab {\n",
       "                    background-color: var(--colab-primary-surface-color, white);\n",
       "                }\n",
       "\n",
       "                .geemap-colab .jupyter-button {\n",
       "                    --jp-layout-color3: var(--colab-primary-surface-color, white);\n",
       "                }\n",
       "            </style>\n",
       "            "
      ],
      "text/plain": [
       "<IPython.core.display.HTML object>"
      ]
     },
     "metadata": {},
     "output_type": "display_data"
    },
    {
     "data": {
      "text/html": [
       "<div>\n",
       "<style scoped>\n",
       "    .dataframe tbody tr th:only-of-type {\n",
       "        vertical-align: middle;\n",
       "    }\n",
       "\n",
       "    .dataframe tbody tr th {\n",
       "        vertical-align: top;\n",
       "    }\n",
       "\n",
       "    .dataframe thead th {\n",
       "        text-align: right;\n",
       "    }\n",
       "</style>\n",
       "<table border=\"1\" class=\"dataframe\">\n",
       "  <thead>\n",
       "    <tr style=\"text-align: right;\">\n",
       "      <th></th>\n",
       "      <th>FID</th>\n",
       "      <th>Shape</th>\n",
       "      <th>id</th>\n",
       "      <th>width</th>\n",
       "      <th>height</th>\n",
       "      <th>area</th>\n",
       "      <th>perimeter</th>\n",
       "    </tr>\n",
       "  </thead>\n",
       "  <tbody>\n",
       "    <tr>\n",
       "      <th>0</th>\n",
       "      <td>0</td>\n",
       "      <td>(31.727862700000014, 2.6536045999999827)</td>\n",
       "      <td>0</td>\n",
       "      <td>0.049972</td>\n",
       "      <td>0.03935</td>\n",
       "      <td>0.001966</td>\n",
       "      <td>0.178644</td>\n",
       "    </tr>\n",
       "  </tbody>\n",
       "</table>\n",
       "</div>"
      ],
      "text/plain": [
       "   FID                                     Shape  id     width   height  \\\n",
       "0    0  (31.727862700000014, 2.6536045999999827)   0  0.049972  0.03935   \n",
       "\n",
       "       area  perimeter  \n",
       "0  0.001966   0.178644  "
      ]
     },
     "metadata": {},
     "output_type": "display_data"
    },
    {
     "name": "stdout",
     "output_type": "stream",
     "text": [
      "Field 'id' found. Proceeding with operations masking based on AOI \n",
      "please continue\n"
     ]
    }
   ],
   "source": [
    "import pandas as pd\n",
    "# lets print below the layer and convert into df if field names is exist\n",
    "# Get the layer's attribute table fields\n",
    "fields = [field.name for field in arcpy.ListFields(layer)]\n",
    "\n",
    "# Initialize an empty list to hold the data\n",
    "data = []\n",
    "\n",
    "# Use a SearchCursor to iterate over the rows in the attribute table\n",
    "with arcpy.da.SearchCursor(layer, fields) as cursor:\n",
    "    for row in cursor:\n",
    "        data.append(row)\n",
    "\n",
    "# Create a pandas DataFrame from the data\n",
    "df = pd.DataFrame(data, columns=fields)\n",
    "display(df)\n",
    "\n",
    "#for area id in shapefile that identified the data, and will converted into raster\n",
    "OID = 'id'  #IMPORTANT TO CHECK OID based on the column ID\n",
    "if OID not in fields:\n",
    "    print(f'field_name of {OID} is not exist ERROR WILL HAPPEN!!!!')\n",
    "    raise ValueError(f\"Field '{OID}' not found in the fields: {fields}\")\n",
    "else:\n",
    "    print(f\"Field '{OID}' found. Proceeding with operations masking based on AOI \\nplease continue\")\n",
    "    # Proceed with further operations, like converting to raster, etc.\n",
    "    #############################################\n",
    "    ##################################################################################\n",
    "    ### Masking and overlay and area helper Make an image out of the AOI area attribute -> convert featurecollection into raster (image) for overlaying tools\n",
    "    AOI_img = AOI.filter(ee.Filter.notNull([OID])).reduceToImage(\n",
    "        properties= [OID],\n",
    "        reducer= ee.Reducer.first()\n",
    "    )"
   ]
  },
  {
   "cell_type": "code",
   "execution_count": 12,
   "metadata": {},
   "outputs": [
    {
     "data": {
      "text/html": [
       "\n",
       "            <style>\n",
       "                .geemap-dark {\n",
       "                    --jp-widgets-color: white;\n",
       "                    --jp-widgets-label-color: white;\n",
       "                    --jp-ui-font-color1: white;\n",
       "                    --jp-layout-color2: #454545;\n",
       "                    background-color: #383838;\n",
       "                }\n",
       "\n",
       "                .geemap-dark .jupyter-button {\n",
       "                    --jp-layout-color3: #383838;\n",
       "                }\n",
       "\n",
       "                .geemap-colab {\n",
       "                    background-color: var(--colab-primary-surface-color, white);\n",
       "                }\n",
       "\n",
       "                .geemap-colab .jupyter-button {\n",
       "                    --jp-layout-color3: var(--colab-primary-surface-color, white);\n",
       "                }\n",
       "            </style>\n",
       "            "
      ],
      "text/plain": [
       "<IPython.core.display.HTML object>"
      ]
     },
     "metadata": {},
     "output_type": "display_data"
    },
    {
     "name": "stdout",
     "output_type": "stream",
     "text": [
      "layer input training is already added, check it on the map, save it in the same path if you edited\n"
     ]
    }
   ],
   "source": [
    "# option-2 if we want to add the data as layer from path and adding the layer programmatically\n",
    "# let's try for this training points (sample) to be added as layer in our current map\n",
    "\n",
    "# Define a helper function to safely get the data source\n",
    "def safe_get_data_source(layer):\n",
    "    try:\n",
    "        if layer.isFeatureLayer:\n",
    "            return layer.dataSource\n",
    "        else:\n",
    "            return \"Not a feature layer or no data source available\"\n",
    "    except Exception as e:\n",
    "        return f\"Error: {str(e)}\"\n",
    "\n",
    "list_source_layers_in_map = [safe_get_data_source(layer) for layer in map.listLayers()]\n",
    "\n",
    "if path_shp_input_training not in list_source_layers_in_map:\n",
    "    map.addDataFromPath(path_shp_input_training)\n",
    "else:\n",
    "    print('layer input training is already added, check it on the map, save it in the same path if you edited')\n"
   ]
  },
  {
   "cell_type": "code",
   "execution_count": 13,
   "metadata": {},
   "outputs": [
    {
     "data": {
      "text/html": [
       "\n",
       "            <style>\n",
       "                .geemap-dark {\n",
       "                    --jp-widgets-color: white;\n",
       "                    --jp-widgets-label-color: white;\n",
       "                    --jp-ui-font-color1: white;\n",
       "                    --jp-layout-color2: #454545;\n",
       "                    background-color: #383838;\n",
       "                }\n",
       "\n",
       "                .geemap-dark .jupyter-button {\n",
       "                    --jp-layout-color3: #383838;\n",
       "                }\n",
       "\n",
       "                .geemap-colab {\n",
       "                    background-color: var(--colab-primary-surface-color, white);\n",
       "                }\n",
       "\n",
       "                .geemap-colab .jupyter-button {\n",
       "                    --jp-layout-color3: var(--colab-primary-surface-color, white);\n",
       "                }\n",
       "            </style>\n",
       "            "
      ],
      "text/plain": [
       "<IPython.core.display.HTML object>"
      ]
     },
     "metadata": {},
     "output_type": "display_data"
    }
   ],
   "source": [
    "# convert the modules for image collection (cloudless masking, compositing, reducer etc)\n",
    "from osi.image_collection.main import ImageCollection"
   ]
  },
  {
   "cell_type": "code",
   "execution_count": 14,
   "metadata": {},
   "outputs": [
    {
     "data": {
      "text/html": [
       "\n",
       "            <style>\n",
       "                .geemap-dark {\n",
       "                    --jp-widgets-color: white;\n",
       "                    --jp-widgets-label-color: white;\n",
       "                    --jp-ui-font-color1: white;\n",
       "                    --jp-layout-color2: #454545;\n",
       "                    background-color: #383838;\n",
       "                }\n",
       "\n",
       "                .geemap-dark .jupyter-button {\n",
       "                    --jp-layout-color3: #383838;\n",
       "                }\n",
       "\n",
       "                .geemap-colab {\n",
       "                    background-color: var(--colab-primary-surface-color, white);\n",
       "                }\n",
       "\n",
       "                .geemap-colab .jupyter-button {\n",
       "                    --jp-layout-color3: var(--colab-primary-surface-color, white);\n",
       "                }\n",
       "            </style>\n",
       "            "
      ],
      "text/plain": [
       "<IPython.core.display.HTML object>"
      ]
     },
     "metadata": {},
     "output_type": "display_data"
    }
   ],
   "source": [
    "classInputCollection = ImageCollection(I_satellite=I_satellite,\n",
    "                                       AOI=AOI, \n",
    "                                       date_start_end=[start_date,end_date], \n",
    "                                       cloud_cover_threshold = cloud_cover_threshold,\n",
    "                                       region=region)"
   ]
  },
  {
   "cell_type": "code",
   "execution_count": 15,
   "metadata": {},
   "outputs": [
    {
     "data": {
      "text/html": [
       "\n",
       "            <style>\n",
       "                .geemap-dark {\n",
       "                    --jp-widgets-color: white;\n",
       "                    --jp-widgets-label-color: white;\n",
       "                    --jp-ui-font-color1: white;\n",
       "                    --jp-layout-color2: #454545;\n",
       "                    background-color: #383838;\n",
       "                }\n",
       "\n",
       "                .geemap-dark .jupyter-button {\n",
       "                    --jp-layout-color3: #383838;\n",
       "                }\n",
       "\n",
       "                .geemap-colab {\n",
       "                    background-color: var(--colab-primary-surface-color, white);\n",
       "                }\n",
       "\n",
       "                .geemap-colab .jupyter-button {\n",
       "                    --jp-layout-color3: var(--colab-primary-surface-color, white);\n",
       "                }\n",
       "            </style>\n",
       "            "
      ],
      "text/plain": [
       "<IPython.core.display.HTML object>"
      ]
     },
     "metadata": {},
     "output_type": "display_data"
    },
    {
     "name": "stdout",
     "output_type": "stream",
     "text": [
      "selecting Planet images\n"
     ]
    }
   ],
   "source": [
    "# run the method from image collection loaded, cloudless compositing until to image_mosaick\n",
    "image_mosaick = classInputCollection.image_mosaick()"
   ]
  },
  {
   "cell_type": "code",
   "execution_count": 16,
   "metadata": {},
   "outputs": [
    {
     "data": {
      "text/html": [
       "\n",
       "            <style>\n",
       "                .geemap-dark {\n",
       "                    --jp-widgets-color: white;\n",
       "                    --jp-widgets-label-color: white;\n",
       "                    --jp-ui-font-color1: white;\n",
       "                    --jp-layout-color2: #454545;\n",
       "                    background-color: #383838;\n",
       "                }\n",
       "\n",
       "                .geemap-dark .jupyter-button {\n",
       "                    --jp-layout-color3: #383838;\n",
       "                }\n",
       "\n",
       "                .geemap-colab {\n",
       "                    background-color: var(--colab-primary-surface-color, white);\n",
       "                }\n",
       "\n",
       "                .geemap-colab .jupyter-button {\n",
       "                    --jp-layout-color3: var(--colab-primary-surface-color, white);\n",
       "                }\n",
       "            </style>\n",
       "            "
      ],
      "text/plain": [
       "<IPython.core.display.HTML object>"
      ]
     },
     "metadata": {},
     "output_type": "display_data"
    },
    {
     "name": "stdout",
     "output_type": "stream",
     "text": [
      "https://earthengine.googleapis.com/v1/projects/ee-iwansetiawan/maps/ef7f6c44fb421920d903151fcb58d4aa-2221414081473b5152e3e739ddcfca64/tiles/{z}/{x}/{y}\n",
      "removing and re-adding the layer name: image_mosaick_result_ee_delight_landscape\n",
      "layer re-added: image_mosaick_result_ee_delight_landscape\n"
     ]
    }
   ],
   "source": [
    "vis_params_image_mosaick = {\"bands\":[\"red\",\"green\",\"blue\"],\"min\":0,\"max\":0.1,\"gamma\":1}\n",
    "layer_name_image_mosaick = f'image_mosaick_result_ee_{project_name}'\n",
    "\n",
    "def adding_ee_to_arcgisPro(ee_image, vis_params, layer_name):\n",
    "    map_id_dict = ee_image.getMapId(vis_params)\n",
    "    url_tiles  = map_id_dict['tile_fetcher'].url_format\n",
    "    print(url_tiles)\n",
    "    \n",
    "    list_name_layers_in_map = [layer.name for layer in map.listLayers()]\n",
    "    if layer_name not in list_name_layers_in_map:\n",
    "        arcgis_layer = map.addDataFromPath(url_tiles)\n",
    "        arcgis_layer.name = layer_name\n",
    "    else:\n",
    "        print(f'removing and re-adding the layer name: {layer_name}')\n",
    "        arcgis_layer = map.removeLayer([layer for layer in map.listLayers() if layer.name == layer_name][0])\n",
    "        arcgis_layer = map.addDataFromPath(url_tiles)\n",
    "        arcgis_layer.name = layer_name\n",
    "        print(f'layer re-added: {layer_name}')\n",
    "        \n",
    "    return arcgis_layer\n",
    "    \n",
    "image_mosaick_arcgis_layer = adding_ee_to_arcgisPro(image_mosaick, vis_params_image_mosaick,\n",
    "                                                   layer_name_image_mosaick)"
   ]
  },
  {
   "cell_type": "code",
   "execution_count": 17,
   "metadata": {},
   "outputs": [
    {
     "data": {
      "text/html": [
       "\n",
       "            <style>\n",
       "                .geemap-dark {\n",
       "                    --jp-widgets-color: white;\n",
       "                    --jp-widgets-label-color: white;\n",
       "                    --jp-ui-font-color1: white;\n",
       "                    --jp-layout-color2: #454545;\n",
       "                    background-color: #383838;\n",
       "                }\n",
       "\n",
       "                .geemap-dark .jupyter-button {\n",
       "                    --jp-layout-color3: #383838;\n",
       "                }\n",
       "\n",
       "                .geemap-colab {\n",
       "                    background-color: var(--colab-primary-surface-color, white);\n",
       "                }\n",
       "\n",
       "                .geemap-colab .jupyter-button {\n",
       "                    --jp-layout-color3: var(--colab-primary-surface-color, white);\n",
       "                }\n",
       "            </style>\n",
       "            "
      ],
      "text/plain": [
       "<IPython.core.display.HTML object>"
      ]
     },
     "metadata": {},
     "output_type": "display_data"
    }
   ],
   "source": [
    "from osi.spectral_indices.spectral_analysis import SpectralAnalysis\n",
    "from osi.spectral_indices.utils import normalization_100\n",
    "\n",
    "# since the class is using config for some reason (simplicity), different with the ImageCollection\n",
    "config = {'I_satellite':I_satellite,\n",
    "         'pca_scaling':pca_scaling,\n",
    "         'tileScale':tileScale,\n",
    "         'AOI':AOI, \n",
    "         'date_start_end':[start_date,end_date],\n",
    "         'pixel_number': pixel_number,\n",
    "         'year_start_loss':year_start_loss,\n",
    "         'tree_cover_forest':tree_cover_forest,\n",
    "         'fcd_selected': 21, #if you want to put as variable, do it later, but lets make it default\n",
    "         }\n",
    "\n",
    "\n",
    "classImageSpectral = SpectralAnalysis(image_mosaick,config)"
   ]
  },
  {
   "cell_type": "code",
   "execution_count": 18,
   "metadata": {},
   "outputs": [
    {
     "data": {
      "text/html": [
       "\n",
       "            <style>\n",
       "                .geemap-dark {\n",
       "                    --jp-widgets-color: white;\n",
       "                    --jp-widgets-label-color: white;\n",
       "                    --jp-ui-font-color1: white;\n",
       "                    --jp-layout-color2: #454545;\n",
       "                    background-color: #383838;\n",
       "                }\n",
       "\n",
       "                .geemap-dark .jupyter-button {\n",
       "                    --jp-layout-color3: #383838;\n",
       "                }\n",
       "\n",
       "                .geemap-colab {\n",
       "                    background-color: var(--colab-primary-surface-color, white);\n",
       "                }\n",
       "\n",
       "                .geemap-colab .jupyter-button {\n",
       "                    --jp-layout-color3: var(--colab-primary-surface-color, white);\n",
       "                }\n",
       "            </style>\n",
       "            "
      ],
      "text/plain": [
       "<IPython.core.display.HTML object>"
      ]
     },
     "metadata": {},
     "output_type": "display_data"
    },
    {
     "name": "stdout",
     "output_type": "stream",
     "text": [
      "selecting Planet images\n",
      "selecting Planet images\n",
      "processing AVI\n",
      "processing BSI\n",
      "processing SI\n",
      "Normalizing to 100 AVI\n",
      "Normalizing to 100 AVI\n",
      "Normalizing to 100 BSI\n",
      "Normalizing to 100 SI\n",
      "Combining AVI AND BSI\n",
      "no thermal band, choosing Planet images\n",
      "Processing means center of AVI_BSI please wait\n",
      "Now we proceed to the PCA of Vegetation density\n",
      "Success get the PCA normalized of VD => SVI\n",
      "Now calculating the FCD from SVI and SSI - selecting band svi1 svi2 ssi1 and ssi2\n",
      "finish processing PCA, the result: FCD1_1 and FCD2_1 please continue\n",
      "https://earthengine.googleapis.com/v1/projects/ee-iwansetiawan/maps/e808993823d5445622139a51f7a8306a-fbf7581daab9c3340cf8bca27a5b9a6f/tiles/{z}/{x}/{y}\n",
      "removing and re-adding the layer name: FCD1_1_delight_landscape\n",
      "layer re-added: FCD1_1_delight_landscape\n",
      "https://earthengine.googleapis.com/v1/projects/ee-iwansetiawan/maps/c0cd22213935380dad5c40f19122aaac-c6ee287a1e7661058239138ea470e8c9/tiles/{z}/{x}/{y}\n",
      "removing and re-adding the layer name: FCD2_1_delight_landscape\n",
      "layer re-added: FCD2_1_delight_landscape\n",
      "finish processing PCA please continue\n"
     ]
    }
   ],
   "source": [
    "from osi.fcd.main_fcd import FCDCalc\n",
    "\n",
    "from osi.pca.pca_gee import PCA\n",
    "\n",
    "IsThermal = False\n",
    "config['region'] = region\n",
    "# config['I_satellite'] = I_satellite\n",
    "config['IsThermal'] = IsThermal\n",
    "# config['AOI'] = AOI\n",
    "# config['date_start_end'] = date_start_end\n",
    "config['cloud_cover_threshold'] = cloud_cover_threshold\n",
    "\n",
    "\n",
    "class_FCD_run = FCDCalc(config).fcd_calc()\n",
    "FCD1_1 = class_FCD_run['FCD1_1']\n",
    "FCD2_1 = class_FCD_run['FCD2_1']\n",
    "\n",
    "FCD1_1_arcgis_layer = adding_ee_to_arcgisPro(FCD1_1, {'min':0 ,'max':80, 'palette':['ff4c16', 'ffd96c', '39a71d']},\n",
    "                                                   f'FCD1_1_{project_name}')\n",
    "\n",
    "FCD2_1_arcgis_layer = adding_ee_to_arcgisPro(FCD2_1, {'min':0 ,'max':80, 'palette':['ff4c16', 'ffd96c', '39a71d']},\n",
    "                                                   f'FCD2_1_{project_name}')\n",
    "\n",
    "print('finish processing PCA please continue')"
   ]
  },
  {
   "cell_type": "code",
   "execution_count": 19,
   "metadata": {},
   "outputs": [
    {
     "data": {
      "text/html": [
       "\n",
       "            <style>\n",
       "                .geemap-dark {\n",
       "                    --jp-widgets-color: white;\n",
       "                    --jp-widgets-label-color: white;\n",
       "                    --jp-ui-font-color1: white;\n",
       "                    --jp-layout-color2: #454545;\n",
       "                    background-color: #383838;\n",
       "                }\n",
       "\n",
       "                .geemap-dark .jupyter-button {\n",
       "                    --jp-layout-color3: #383838;\n",
       "                }\n",
       "\n",
       "                .geemap-colab {\n",
       "                    background-color: var(--colab-primary-surface-color, white);\n",
       "                }\n",
       "\n",
       "                .geemap-colab .jupyter-button {\n",
       "                    --jp-layout-color3: var(--colab-primary-surface-color, white);\n",
       "                }\n",
       "            </style>\n",
       "            "
      ],
      "text/plain": [
       "<IPython.core.display.HTML object>"
      ]
     },
     "metadata": {},
     "output_type": "display_data"
    }
   ],
   "source": [
    "# Now this is historical data to overlay later with current baseline (landcover)\n",
    "from osi.hansen.historical_loss import HansenHistorical\n",
    "hansen_class = HansenHistorical(config)\n",
    "run_hansen = hansen_class.initiate_tcl()\n",
    "LastImageLandsat, treeLossYear, minLoss, ForestArea2000Hansen, gfc =  \\\n",
    "                                 run_hansen['LastImageLandsat'], \\\n",
    "                                 run_hansen['treeLossYear'], \\\n",
    "                                 run_hansen['minLoss'], \\\n",
    "                                 run_hansen['ForestArea2000Hansen'], \\\n",
    "                                 run_hansen['gfc']\n"
   ]
  },
  {
   "cell_type": "code",
   "execution_count": 20,
   "metadata": {},
   "outputs": [
    {
     "data": {
      "text/html": [
       "\n",
       "            <style>\n",
       "                .geemap-dark {\n",
       "                    --jp-widgets-color: white;\n",
       "                    --jp-widgets-label-color: white;\n",
       "                    --jp-ui-font-color1: white;\n",
       "                    --jp-layout-color2: #454545;\n",
       "                    background-color: #383838;\n",
       "                }\n",
       "\n",
       "                .geemap-dark .jupyter-button {\n",
       "                    --jp-layout-color3: #383838;\n",
       "                }\n",
       "\n",
       "                .geemap-colab {\n",
       "                    background-color: var(--colab-primary-surface-color, white);\n",
       "                }\n",
       "\n",
       "                .geemap-colab .jupyter-button {\n",
       "                    --jp-layout-color3: var(--colab-primary-surface-color, white);\n",
       "                }\n",
       "            </style>\n",
       "            "
      ],
      "text/plain": [
       "<IPython.core.display.HTML object>"
      ]
     },
     "metadata": {},
     "output_type": "display_data"
    },
    {
     "name": "stdout",
     "output_type": "stream",
     "text": [
      "Adding the map of Forest, FCD >= 55% and mask only if not water in area (hansen) and NDWI\n",
      "Adding the map of Shrubland, FCD <  55% and FCD >= 45%\n",
      "Adding the map of Grassland or Openland, FCD  < 45%\n",
      "Processing - the zoning classification\n",
      "finish processing, merging all the zone into one image\n"
     ]
    }
   ],
   "source": [
    "from osi.classifying.assign_zone import AssignClassZone\n",
    "config['open_land'] = open_land\n",
    "config['shrub_grass']=shrub_grass\n",
    "config['yrf_forest'] = yrf_forest\n",
    "config['high_forest'] = high_forest\n",
    "config['AOI_img'] = AOI_img\n",
    "config['band_name_image'] = band_name_image\n",
    "\n",
    "class_assigning_fcd =  AssignClassZone(config, FCD1_1=FCD1_1, FCD2_1=FCD2_1)\n",
    "list_images_classified = class_assigning_fcd.assigning_fcd_class(gfc, minLoss)"
   ]
  },
  {
   "cell_type": "code",
   "execution_count": 21,
   "metadata": {},
   "outputs": [
    {
     "data": {
      "text/html": [
       "\n",
       "            <style>\n",
       "                .geemap-dark {\n",
       "                    --jp-widgets-color: white;\n",
       "                    --jp-widgets-label-color: white;\n",
       "                    --jp-ui-font-color1: white;\n",
       "                    --jp-layout-color2: #454545;\n",
       "                    background-color: #383838;\n",
       "                }\n",
       "\n",
       "                .geemap-dark .jupyter-button {\n",
       "                    --jp-layout-color3: #383838;\n",
       "                }\n",
       "\n",
       "                .geemap-colab {\n",
       "                    background-color: var(--colab-primary-surface-color, white);\n",
       "                }\n",
       "\n",
       "                .geemap-colab .jupyter-button {\n",
       "                    --jp-layout-color3: var(--colab-primary-surface-color, white);\n",
       "                }\n",
       "            </style>\n",
       "            "
      ],
      "text/plain": [
       "<IPython.core.display.HTML object>"
      ]
     },
     "metadata": {},
     "output_type": "display_data"
    },
    {
     "name": "stdout",
     "output_type": "stream",
     "text": [
      "https://earthengine.googleapis.com/v1/projects/ee-iwansetiawan/maps/ba6d2ecf7026892a445f432d582088c7-b307b038c1af562f893e9cf382c18fe1/tiles/{z}/{x}/{y}\n",
      "removing and re-adding the layer name: FCD_classified_zone_delight_landscape\n",
      "layer re-added: FCD_classified_zone_delight_landscape\n"
     ]
    }
   ],
   "source": [
    "fcd_classified_zone = list_images_classified['all_zone']\n",
    "vis_params_fcd_classified = list_images_classified['vis_param_merged']\n",
    "\n",
    "fcd_classified_zone_arcgis_layer = adding_ee_to_arcgisPro(fcd_classified_zone, vis_params_fcd_classified,\n",
    "                                                   f'FCD_classified_zone_{project_name}')"
   ]
  },
  {
   "cell_type": "code",
   "execution_count": 22,
   "metadata": {},
   "outputs": [
    {
     "data": {
      "text/html": [
       "\n",
       "            <style>\n",
       "                .geemap-dark {\n",
       "                    --jp-widgets-color: white;\n",
       "                    --jp-widgets-label-color: white;\n",
       "                    --jp-ui-font-color1: white;\n",
       "                    --jp-layout-color2: #454545;\n",
       "                    background-color: #383838;\n",
       "                }\n",
       "\n",
       "                .geemap-dark .jupyter-button {\n",
       "                    --jp-layout-color3: #383838;\n",
       "                }\n",
       "\n",
       "                .geemap-colab {\n",
       "                    background-color: var(--colab-primary-surface-color, white);\n",
       "                }\n",
       "\n",
       "                .geemap-colab .jupyter-button {\n",
       "                    --jp-layout-color3: var(--colab-primary-surface-color, white);\n",
       "                }\n",
       "            </style>\n",
       "            "
      ],
      "text/plain": [
       "<IPython.core.display.HTML object>"
      ]
     },
     "metadata": {},
     "output_type": "display_data"
    },
    {
     "data": {
      "text/plain": [
       "{'1': {'name': 'Shrubland_Go-Zone', 'color': '#ffe3b3'},\n",
       " '2': {'name': 'Grassland_Go-Zone', 'color': '#ffff33'},\n",
       " '3': {'name': 'Openland_Go-Zone', 'color': '#F89696'},\n",
       " '4': {'name': 'High density Forest', 'color': '#09ab0c'},\n",
       " '5': {'name': 'Low - Medium density Forest', 'color': '#83ff5a'},\n",
       " '6': {'name': 'Regrowth High Density Forest from deforested (historical)',\n",
       "  'color': '#ff0004'},\n",
       " '7': {'name': 'Regrowth Low Density Forest from deforested (historical)',\n",
       "  'color': '#ff0abe'},\n",
       " '8': {'name': 'Historical deforestation (10 years rule)', 'color': '#ff8a1d'},\n",
       " '9': {'name': 'Water Body', 'color': '#1900ff'},\n",
       " '10': {'name': 'Plantation_No_GO-Zone', 'color': '#e6e6fa'},\n",
       " '11': {'name': 'Infrastructure_No_GO-Zone', 'color': '#FFFFFF'}}"
      ]
     },
     "execution_count": 22,
     "metadata": {},
     "output_type": "execute_result"
    }
   ],
   "source": [
    "list_images_classified['vis_param_merged']\n",
    "list_images_classified['legend_class']"
   ]
  },
  {
   "cell_type": "code",
   "execution_count": 23,
   "metadata": {},
   "outputs": [
    {
     "data": {
      "text/html": [
       "\n",
       "            <style>\n",
       "                .geemap-dark {\n",
       "                    --jp-widgets-color: white;\n",
       "                    --jp-widgets-label-color: white;\n",
       "                    --jp-ui-font-color1: white;\n",
       "                    --jp-layout-color2: #454545;\n",
       "                    background-color: #383838;\n",
       "                }\n",
       "\n",
       "                .geemap-dark .jupyter-button {\n",
       "                    --jp-layout-color3: #383838;\n",
       "                }\n",
       "\n",
       "                .geemap-colab {\n",
       "                    background-color: var(--colab-primary-surface-color, white);\n",
       "                }\n",
       "\n",
       "                .geemap-colab .jupyter-button {\n",
       "                    --jp-layout-color3: var(--colab-primary-surface-color, white);\n",
       "                }\n",
       "            </style>\n",
       "            "
      ],
      "text/plain": [
       "<IPython.core.display.HTML object>"
      ]
     },
     "metadata": {},
     "output_type": "display_data"
    },
    {
     "name": "stdout",
     "output_type": "stream",
     "text": [
      "[{'color': '#ffe3b3', 'label': '1: Shrubland_Go-Zone'}, {'color': '#ffff33', 'label': '2: Grassland_Go-Zone'}, {'color': '#F89696', 'label': '3: Openland_Go-Zone'}, {'color': '#09ab0c', 'label': '4: High density Forest'}, {'color': '#83ff5a', 'label': '5: Low - Medium density Forest'}, {'color': '#ff0004', 'label': '6: Regrowth High Density Forest from deforested (historical)'}, {'color': '#ff0abe', 'label': '7: Regrowth Low Density Forest from deforested (historical)'}, {'color': '#ff8a1d', 'label': '8: Historical deforestation (10 years rule)'}, {'color': '#1900ff', 'label': '9: Water Body'}, {'color': '#e6e6fa', 'label': '10: Plantation_No_GO-Zone'}, {'color': '#FFFFFF', 'label': '11: Infrastructure_No_GO-Zone'}]\n"
     ]
    }
   ],
   "source": [
    "from osi.legends.utils import convert_to_legend_items\n",
    "\n",
    "# Convert the dictionary to the LEGEND_ITEMS format\n",
    "legend_items = convert_to_legend_items(list_images_classified['legend_class'])\n",
    "\n",
    "# Print the result\n",
    "print(legend_items)"
   ]
  },
  {
   "cell_type": "code",
   "execution_count": 24,
   "metadata": {},
   "outputs": [
    {
     "data": {
      "text/html": [
       "\n",
       "            <style>\n",
       "                .geemap-dark {\n",
       "                    --jp-widgets-color: white;\n",
       "                    --jp-widgets-label-color: white;\n",
       "                    --jp-ui-font-color1: white;\n",
       "                    --jp-layout-color2: #454545;\n",
       "                    background-color: #383838;\n",
       "                }\n",
       "\n",
       "                .geemap-dark .jupyter-button {\n",
       "                    --jp-layout-color3: #383838;\n",
       "                }\n",
       "\n",
       "                .geemap-colab {\n",
       "                    background-color: var(--colab-primary-surface-color, white);\n",
       "                }\n",
       "\n",
       "                .geemap-colab .jupyter-button {\n",
       "                    --jp-layout-color3: var(--colab-primary-surface-color, white);\n",
       "                }\n",
       "            </style>\n",
       "            "
      ],
      "text/plain": [
       "<IPython.core.display.HTML object>"
      ]
     },
     "metadata": {},
     "output_type": "display_data"
    },
    {
     "data": {
      "image/png": "[encoded data removed]",
      "text/plain": [
       "<Figure size 600x600 with 1 Axes>"
      ]
     },
     "metadata": {},
     "output_type": "display_data"
    }
   ],
   "source": [
    "from osi.legends.main import LegendsBuilder\n",
    "\n",
    "legend_class = LegendsBuilder(legend_items=legend_items)\n",
    "legend_class.create_legend()\n"
   ]
  },
  {
   "cell_type": "code",
   "execution_count": 25,
   "metadata": {},
   "outputs": [
    {
     "data": {
      "text/html": [
       "\n",
       "            <style>\n",
       "                .geemap-dark {\n",
       "                    --jp-widgets-color: white;\n",
       "                    --jp-widgets-label-color: white;\n",
       "                    --jp-ui-font-color1: white;\n",
       "                    --jp-layout-color2: #454545;\n",
       "                    background-color: #383838;\n",
       "                }\n",
       "\n",
       "                .geemap-dark .jupyter-button {\n",
       "                    --jp-layout-color3: #383838;\n",
       "                }\n",
       "\n",
       "                .geemap-colab {\n",
       "                    background-color: var(--colab-primary-surface-color, white);\n",
       "                }\n",
       "\n",
       "                .geemap-colab .jupyter-button {\n",
       "                    --jp-layout-color3: var(--colab-primary-surface-color, white);\n",
       "                }\n",
       "            </style>\n",
       "            "
      ],
      "text/plain": [
       "<IPython.core.display.HTML object>"
      ]
     },
     "metadata": {},
     "output_type": "display_data"
    },
    {
     "data": {
      "image/png": "[encoded data removed]",
      "text/plain": [
       "<Figure size 600x200 with 1 Axes>"
      ]
     },
     "metadata": {},
     "output_type": "display_data"
    }
   ],
   "source": [
    "# custom color spectrum\n",
    "legend_class.create_colorbar('Forest Canopy Density',{'min': 0, 'max': 100, 'palette': ['#ff4c16', '#ffd96c', '#39a71d']})"
   ]
  },
  {
   "cell_type": "code",
   "execution_count": 26,
   "metadata": {},
   "outputs": [
    {
     "data": {
      "text/html": [
       "\n",
       "            <style>\n",
       "                .geemap-dark {\n",
       "                    --jp-widgets-color: white;\n",
       "                    --jp-widgets-label-color: white;\n",
       "                    --jp-ui-font-color1: white;\n",
       "                    --jp-layout-color2: #454545;\n",
       "                    background-color: #383838;\n",
       "                }\n",
       "\n",
       "                .geemap-dark .jupyter-button {\n",
       "                    --jp-layout-color3: #383838;\n",
       "                }\n",
       "\n",
       "                .geemap-colab {\n",
       "                    background-color: var(--colab-primary-surface-color, white);\n",
       "                }\n",
       "\n",
       "                .geemap-colab .jupyter-button {\n",
       "                    --jp-layout-color3: var(--colab-primary-surface-color, white);\n",
       "                }\n",
       "            </style>\n",
       "            "
      ],
      "text/plain": [
       "<IPython.core.display.HTML object>"
      ]
     },
     "metadata": {},
     "output_type": "display_data"
    }
   ],
   "source": [
    "image_mosaick_all_bands = image_mosaick.addBands([FCD2_1.select('FCD').rename('FCD2_1'), FCD1_1.select('FCD').rename('FCD1_1')])\n",
    "\n",
    "## ADDING DIRECTLY SPECTRAL INDICES\n",
    "# classImageSpectral\n",
    "pca_scale = classImageSpectral.pca_scale\n",
    "ndwi_image = classImageSpectral.NDWI_func()\n",
    "msavi2_image = classImageSpectral.MSAVI2_func()\n",
    "mtvi2_image = classImageSpectral.MTVI2_func()\n",
    "ndvi_image = classImageSpectral.NDVI_func()\n",
    "vari_image = classImageSpectral.VARI_func()\n",
    "\n",
    "image_mosaick_ndvi_ndwi_msavi2_mtvi2_vari = (\n",
    "    image_mosaick_all_bands\n",
    "    .addBands(ndwi_image)\n",
    "    .addBands(msavi2_image)\n",
    "    .addBands(mtvi2_image)\n",
    "    .addBands(ndvi_image)\n",
    "    .addBands(vari_image)\n",
    ")\n",
    "\n",
    "red_norm = normalization_100(image_mosaick.select(['red']), pca_scale=pca_scale, AOI=AOI)\n",
    "green_norm = normalization_100(image_mosaick.select(['green']), pca_scale=pca_scale, AOI=AOI)\n",
    "blue_norm = normalization_100(image_mosaick.select(['blue']), pca_scale=pca_scale, AOI=AOI)\n",
    "nir_norm = normalization_100(image_mosaick.select(['nir']), pca_scale=pca_scale, AOI=AOI)\n",
    "\n",
    "image_norm = red_norm.addBands(green_norm).addBands(blue_norm).addBands(nir_norm)\n",
    "\n",
    "image_norm_ndvi = normalization_100(image_mosaick_ndvi_ndwi_msavi2_mtvi2_vari.select('NDVI'), pca_scale=pca_scale, AOI=AOI)\n",
    "image_norm_ndwi = normalization_100(image_mosaick_ndvi_ndwi_msavi2_mtvi2_vari.select('ndwi'), pca_scale=pca_scale, AOI=AOI)\n",
    "image_norm_msavi2 = normalization_100(image_mosaick_ndvi_ndwi_msavi2_mtvi2_vari.select('msavi2'), pca_scale=pca_scale, AOI=AOI)\n",
    "image_norm_mtvi2 = normalization_100(image_mosaick_ndvi_ndwi_msavi2_mtvi2_vari.select('MTVI2'), pca_scale=pca_scale, AOI=AOI)\n",
    "image_norm_vari = normalization_100(image_mosaick_ndvi_ndwi_msavi2_mtvi2_vari.select('VARI'), pca_scale=pca_scale, AOI=AOI)\n",
    "\n",
    "# red_norm.bandNames().getInfo()\n",
    "image_norm_with_spectral_indices = image_norm.addBands(image_norm_ndvi).addBands(image_norm_ndwi).addBands(image_norm_msavi2).addBands(image_norm_mtvi2).addBands(image_norm_vari)\n",
    "image_norm_with_spectral_indices_FCD = image_norm_with_spectral_indices.addBands(FCD2_1.select('FCD').rename('FCD2_1')).addBands(FCD1_1.select('FCD').rename('FCD1_1'))\n",
    "\n"
   ]
  },
  {
   "cell_type": "code",
   "execution_count": 27,
   "metadata": {},
   "outputs": [
    {
     "data": {
      "text/html": [
       "\n",
       "            <style>\n",
       "                .geemap-dark {\n",
       "                    --jp-widgets-color: white;\n",
       "                    --jp-widgets-label-color: white;\n",
       "                    --jp-ui-font-color1: white;\n",
       "                    --jp-layout-color2: #454545;\n",
       "                    background-color: #383838;\n",
       "                }\n",
       "\n",
       "                .geemap-dark .jupyter-button {\n",
       "                    --jp-layout-color3: #383838;\n",
       "                }\n",
       "\n",
       "                .geemap-colab {\n",
       "                    background-color: var(--colab-primary-surface-color, white);\n",
       "                }\n",
       "\n",
       "                .geemap-colab .jupyter-button {\n",
       "                    --jp-layout-color3: var(--colab-primary-surface-color, white);\n",
       "                }\n",
       "            </style>\n",
       "            "
      ],
      "text/plain": [
       "<IPython.core.display.HTML object>"
      ]
     },
     "metadata": {},
     "output_type": "display_data"
    }
   ],
   "source": [
    "from osi.ml.main import LandcoverML\n",
    "\n",
    "class_landCover = LandcoverML(input_image = image_mosaick_ndvi_ndwi_msavi2_mtvi2_vari,\n",
    "                              pca_scale = pca_scale,\n",
    "                              AOI = AOI)"
   ]
  },
  {
   "cell_type": "code",
   "execution_count": 29,
   "metadata": {},
   "outputs": [
    {
     "data": {
      "text/html": [
       "\n",
       "            <style>\n",
       "                .geemap-dark {\n",
       "                    --jp-widgets-color: white;\n",
       "                    --jp-widgets-label-color: white;\n",
       "                    --jp-ui-font-color1: white;\n",
       "                    --jp-layout-color2: #454545;\n",
       "                    background-color: #383838;\n",
       "                }\n",
       "\n",
       "                .geemap-dark .jupyter-button {\n",
       "                    --jp-layout-color3: #383838;\n",
       "                }\n",
       "\n",
       "                .geemap-colab {\n",
       "                    background-color: var(--colab-primary-surface-color, white);\n",
       "                }\n",
       "\n",
       "                .geemap-colab .jupyter-button {\n",
       "                    --jp-layout-color3: var(--colab-primary-surface-color, white);\n",
       "                }\n",
       "            </style>\n",
       "            "
      ],
      "text/plain": [
       "<IPython.core.display.HTML object>"
      ]
     },
     "metadata": {},
     "output_type": "display_data"
    },
    {
     "name": "stdout",
     "output_type": "stream",
     "text": [
      "['red', 'green', 'blue', 'nir', 'FCD2_1', 'FCD1_1', 'ndwi', 'msavi2', 'MTVI2', 'NDVI', 'VARI']\n"
     ]
    }
   ],
   "source": [
    "class_landCover.stratified_random_creation()"
   ]
  },
  {
   "cell_type": "code",
   "execution_count": null,
   "metadata": {},
   "outputs": [],
   "source": [
    "# exploring SNIC - SEGMENTATION\n",
    "#https://gis.stackexchange.com/questions/333413/is-google-earth-engine-snic-segmentation-algorithm-inconsistent\n",
    "\n",
    "# defined superpixel size\n",
    "# super_pixel_size = 10\n",
    "super_pixel_size = 3\n",
    "\n",
    "# Create a uniformly spaced seed grid\n",
    "# seeds = ee.Algorithms.Image.Segmentation.seedGrid(super_pixel_size)\n",
    "\n",
    "# Apply SNIC segmentation on the FCD image\n",
    "snic = ee.Algorithms.Image.Segmentation.SNIC(\n",
    "    # image=image_mosaick_all_bands_ndwi_msavi2_mtvi2_ndvi,\n",
    "    # image=image_mosaick,\n",
    "    # image=image_mosaick_ndvi_ndwi_msavi2_mtvi2,\n",
    "    # image=image_mosaick_avi_norm,\n",
    "    # image=image_norm,\n",
    "    # image=image_norm_with_spectral_indices,\n",
    "    image=image_norm_with_spectral_indices_FCD,\n",
    "    # image= avi_norm,\n",
    "    size=super_pixel_size,\n",
    "    compactness=0,\n",
    "    connectivity=8,\n",
    "    neighborhoodSize=64,\n",
    "    # seeds=seeds,\n",
    ").reproject( # handling/apply the workaround of inconsistency https://gis.stackexchange.com/questions/333413/is-google-earth-engine-snic-segmentation-algorithm-inconsistent\n",
    "  crs='EPSG:4326',\n",
    "  scale=pca_scale)\n",
    "\n",
    "# Map.addLayer(vectors, {}, 'snic-vector')\n",
    "\n",
    "# Pull out the clusters layer, each cluster has a uniform value\n",
    "clusters = snic.select('clusters')\n",
    "\n",
    "# adding_ee_to_arcgisPro(clusters.randomVisualizer(), {}, f'clusters_random_{project_name}')\n",
    "\n",
    "# Map.addLayer(clusters.randomVisualizer(), {}, 'Clusters')\n",
    "# Visualize the cluster means\n",
    "# clusterVis = {'bands': ['red_mean', 'green_mean', 'blue_mean'], 'min': 0, 'max': 1}\n",
    "# Map.addLayer(snic, clusterVis, 'Cluster means')"
   ]
  },
  {
   "cell_type": "code",
   "execution_count": null,
   "metadata": {},
   "outputs": [],
   "source": [
    "image_norm_with_spectral_indices_FCD.bandNames().getInfo()"
   ]
  },
  {
   "cell_type": "code",
   "execution_count": null,
   "metadata": {},
   "outputs": [],
   "source": [
    "clusters = snic.select(['clusters'])\n",
    "\n",
    "# #disable (comment) it if std_dev since makes user limit memory error\n",
    "# # Compute the standard deviation of each cluster.\n",
    "# stdDev_image = image_norm_with_spectral_indices_FCD.addBands(clusters).reduceConnectedComponents(\n",
    "#   reducer =ee.Reducer.stdDev(),\n",
    "#   labelBand= 'clusters',\n",
    "#   maxSize=256,\n",
    "# )\n",
    "\n",
    "# Map.addLayer(stdDev_image, {'min': 0, 'max': .1}, 'Std dev')\n",
    "\n",
    "# Compute the area of each cluster.\n",
    "area_cluster = ee.Image.pixelArea().addBands(clusters).reduceConnectedComponents(\n",
    "    reducer=ee.Reducer.sum(),\n",
    "    labelBand='clusters',\n",
    "    maxSize=256\n",
    "  )\n",
    "# Map.addLayer(area_cluster, {'min': 50000, 'max': 500000}, 'Area')\n",
    "\n",
    "# Compute the perimeter of each cluster.\n",
    "minMax = clusters.reduceNeighborhood(\n",
    "  reducer= ee.Reducer.minMax(),\n",
    "  kernel= ee.Kernel.square(1)\n",
    ")\n",
    "perimeterPixels = minMax.select(0).neq(minMax.select(1))\n",
    "perimeter = perimeterPixels.addBands(clusters).reduceConnectedComponents(\n",
    "    reducer=ee.Reducer.sum(),\n",
    "    labelBand='clusters',\n",
    "    maxSize= 256\n",
    "  )\n",
    "# Map.addLayer(perimeter, {'min': 0, 'max': 1000}, 'Perimeter')\n",
    "\n",
    "# Compute the width and height of each cluster.\n",
    "sizes = ee.Image.pixelLonLat().addBands(clusters).reduceConnectedComponents(\n",
    "    reducer=ee.Reducer.minMax(),\n",
    "    labelBand='clusters',\n",
    "    maxSize=256,\n",
    "  )\n",
    "width = sizes.select('longitude_max').subtract(sizes.select('longitude_min')).rename('width')\n",
    "height = sizes.select('latitude_max').subtract(sizes.select('latitude_min')).rename('height')\n",
    "# Map.addLayer(width, { 'min': 0, 'max': 0.02 }, 'Width')\n",
    "# Map.addLayer(height, { 'min': 0, 'max': 0.02 }, 'Height')\n",
    "\n",
    "# only means number of these bands in clusters\n",
    "mean_image_spectralindices_fcd = snic.select([\n",
    "  'red_mean',\n",
    "  'green_mean',\n",
    "  'blue_mean',\n",
    "  'nir_mean',\n",
    "  'ndwi_mean',\n",
    "  'msavi2_mean',\n",
    "  'MTVI2_mean',\n",
    "  'NDVI_mean',\n",
    "  'VARI_mean',\n",
    "  'FCD1_1_mean',\n",
    "  'FCD2_1_mean',\n",
    "])\n",
    "\n",
    "## putting all together the info of additional stat and object info (perimeter, size, width, height)\n",
    "object_properties_image = ee.Image.cat([\n",
    "  mean_image_spectralindices_fcd,\n",
    "#   stdDev_image, # comment this if make userlimit error - Output of image computation is too large\n",
    "  area_cluster,\n",
    "  perimeter,\n",
    "  width,\n",
    "  height\n",
    "])\n",
    "\n",
    "# # statistic_all_bands image\n",
    "# stats_image_spectralindices_fcd = stats_image\n",
    "stats_image_spectralindices_fcd = object_properties_image"
   ]
  },
  {
   "cell_type": "code",
   "execution_count": null,
   "metadata": {},
   "outputs": [],
   "source": [
    "#k-means, first time only to create stratified random sampling\n",
    "# K-MEANS UNSUPERVISED - Skip later after stratified random sampling created\n",
    "\n",
    "number_class = 7 # 7 class expected: forest, shrub, grass, crop, water, infrastructure, plantation\n",
    "\n",
    "# Perform k-means clustering - unsupervised class\n",
    "training = stats_image_spectralindices_fcd.sample(region=AOI, scale=pca_scale, numPixels=10000) #scale is spatial resolution of Planet NICFI, numPixel (the bigger the better?) at least 100 per class for ha less than 500 or 10% of total pixel?, see: https://docs.google.com/spreadsheets/d/1J8MEi4IDn6faok6UUn9L64T61yWk0D4q/edit#gid=1919918133 to calculate manually (though its for stratified random sampling)\n",
    "kmeans = ee.Clusterer.wekaKMeans(number_class).train(training) \n",
    "result_kmeans = object_properties_image.cluster(kmeans)\n",
    "\n",
    "# Display the classified veg\n",
    "# Map.addLayer(result.clip(AOIsmaller).randomVisualizer(), {}, 'K-means Clusters aoi')\n",
    "# Map.addLayer(result.randomVisualizer(), {}, 'K-means Clusters -random color')\n",
    "cluster_kmeans_random_color = adding_ee_to_arcgisPro(result_kmeans.randomVisualizer(), {}, 'cluster_kmeans_random_color')\n"
   ]
  },
  {
   "cell_type": "code",
   "execution_count": null,
   "metadata": {},
   "outputs": [],
   "source": [
    "result_kmeans.bandNames().getInfo()"
   ]
  },
  {
   "cell_type": "code",
   "execution_count": null,
   "metadata": {},
   "outputs": [],
   "source": [
    "import numpy as np\n",
    "\n",
    "#create stratified random sampling based on K-means classes\n",
    "# create_training_gee\n",
    "if create_training_gee:\n",
    "    print('yes')\n",
    "    \n",
    "    ########### SAMPLE NUMBER CREATION BASED ON https://docs.google.com/spreadsheets/d/1J8MEi4IDn6faok6UUn9L64T61yWk0D4q/edit?gid=1919918133#gid=1919918133\n",
    "#     # example\n",
    "#     strata_area_based_kmeans = {\n",
    "#     'Forest': 100,\n",
    "#     'Shrub': 100,\n",
    "#     'Grass': 100,\n",
    "#     'Crop': 100,\n",
    "#     'Water': 100\n",
    "#     }\n",
    "    \n",
    "    # try with K-means input\n",
    "    result_kmeans = result_kmeans.select('cluster')\n",
    "    \n",
    "    # Calculate the area for each class\n",
    "    def calculate_class_areas(image, region, scale,number_class):\n",
    "        # Create a pixel area image\n",
    "        pixel_area = ee.Image.pixelArea()\n",
    "\n",
    "        # Mask the image for each class and calculate the area\n",
    "        class_areas = {}\n",
    "        for i in range(number_class):  # in number_class above variable (previous cell)\n",
    "            class_mask = image.eq(i)\n",
    "            area = pixel_area.updateMask(class_mask).reduceRegion(\n",
    "                reducer=ee.Reducer.sum(),\n",
    "                geometry=region,\n",
    "                scale=scale,\n",
    "                maxPixels=1e10\n",
    "            ).get('area')\n",
    "\n",
    "            class_areas[i] = area\n",
    "\n",
    "        return class_areas\n",
    "\n",
    "    # Get the results\n",
    "    area_dict = calculate_class_areas(result_kmeans, AOI, pca_scale, number_class)\n",
    "\n",
    "    strata_area_based_kmeans = {}\n",
    "    \n",
    "    # Convert areas from square meters to hectares and print them\n",
    "    for class_id, area in area_dict.items():\n",
    "        area_ha = ee.Number(area).divide(1e4).getInfo()  # Convert area from square meters to hectares\n",
    "        print(f'Class {class_id}: {area_ha:.2f} Ha')\n",
    "        strata_area_based_kmeans[str(class_id)] = float(f'{area_ha:.2f}')\n",
    "    \n",
    "    # Convert the dictionary to a DataFrame\n",
    "    df_sample_n = pd.DataFrame(list(strata_area_based_kmeans.items()), columns=['STRATA', 'MAPPED_AREA'])\n",
    "\n",
    "    # Perform calculations\n",
    "    total_area = df_sample_n['MAPPED_AREA'].sum()\n",
    "\n",
    "    # A Prior parameter value\n",
    "    S_O = 0.01  # A Priori total precision\n",
    "    Ui = 0.7  # A priori user precision\n",
    "\n",
    "    df_sample_n['Wi'] = df_sample_n['MAPPED_AREA'] / total_area\n",
    "    df_sample_n['Ui'] = Ui\n",
    "    df_sample_n['Si'] = np.sqrt(df_sample_n['Ui'] * (1 - df_sample_n['Ui']))\n",
    "    df_sample_n['WiSi'] = df_sample_n['Wi'] * df_sample_n['Si']\n",
    "    df_sample_n['WiSi^2'] = df_sample_n['Wi'] * (df_sample_n['Si'] ** 2)\n",
    "    df_sample_n['NiSi'] = (df_sample_n['MAPPED_AREA'] * df_sample_n['Si'])\n",
    "    \n",
    "    total_sample_size = (df_sample_n['WiSi'].sum() ** 2) / ((S_O ** 2) + (1 / total_area) * df_sample_n['WiSi^2'].sum())\n",
    "\n",
    "    df_sample_n['ni'] = ((total_sample_size * df_sample_n['WiSi']) / df_sample_n['WiSi'].sum()).astype(int)\n",
    "\n",
    "    # Display the final DataFrame\n",
    "    display(df_sample_n)\n",
    "    print('total sample size: ',total_sample_size)\n",
    "    \n",
    "    strata_ni = dict(zip(df_sample_n['STRATA'], df_sample_n['ni']))\n",
    "    print(strata_ni)\n",
    "        \n",
    "    # Create stratified random samples\n",
    "    samples = result_kmeans.stratifiedSample(\n",
    "        numPoints=0,  # Set numPoints to 0 to use class values from the dictionary\n",
    "        classBand='cluster',\n",
    "        region=AOI,\n",
    "        scale=pca_scale,  # Adjust the scale as per your data resolution\n",
    "        classValues=[int(k) for k in strata_ni.keys()],\n",
    "        classPoints=list(strata_ni.values()),\n",
    "        seed=0,  # For reproducibility, you can change the seed\n",
    "        geometries=True\n",
    "    )\n",
    "\n",
    "    # Print the number of samples to verify\n",
    "    print('Total samples:', samples.size().getInfo())\n",
    "    \n",
    "    # Export the samples to a CSV file in Google Drive\n",
    "    export_stratified_point = ee.batch.Export.table.toDrive(\n",
    "        collection=samples,\n",
    "        description=f'Stratified_Random_Samples_{project_name}',\n",
    "        folder=f'lu_input_{project_name}',\n",
    "        fileFormat='SHP'\n",
    "    )\n",
    "\n",
    "    # Start the export task\n",
    "    export_stratified_point.start()\n",
    "\n",
    "    # Monitor the task status\n",
    "    import time\n",
    "    while export_stratified_point.active():\n",
    "        print('Export task status:', export_stratified_point.status())\n",
    "        time.sleep(10)\n",
    "\n",
    "    print(f'Export task completed: Stratified_Random_Samples_{project_name}')\n",
    "    \n",
    "    # Open in gdrive in your computer\n",
    "    location_stratified_exported = fr'G:\\My Drive\\lu_input_{project_name}\\Stratified_Random_Samples_{project_name}.shp'\n",
    "    print(location_stratified_exported) #make sure the location is correct (G: is connected by gdrive desktop!)\n",
    "    \n",
    "    # arcgis layer object\n",
    "    training_points = map.addDataFromPath(location_stratified_exported)\n",
    "    # training_points.name = 'change the name here'\n",
    "    \n",
    "    path_shp_input_training = training_points.dataSource\n",
    "    \n",
    "else:\n",
    "    print('we will use the existing training_points or labelled')\n",
    "    print(f'location of the training sample is in {path_shp_input_training}')"
   ]
  },
  {
   "cell_type": "code",
   "execution_count": null,
   "metadata": {},
   "outputs": [],
   "source": [
    "# starting to do ML analysis\n",
    "# training to feature and fraction training with validation\n",
    "########\n",
    "input_training_feature = geemap.shp_to_ee(path_shp_input_training)\n",
    "\n",
    "points = input_training_feature.randomColumn()\n",
    "training_fraction = 0.7\n",
    "training_points = points.filter(ee.Filter.lt('random', training_fraction))\n",
    "validation_points = points.filter(ee.Filter.gte('random', training_fraction))\n",
    "\n",
    "###### trying random forest- pixel based (without segmentation): classic supervised classification\n",
    "training_pixel = image_norm_with_spectral_indices_FCD.sampleRegions(\n",
    "    collection=training_points,\n",
    "    properties=['code_lu'],\n",
    "    scale=pca_scale\n",
    ")\n",
    "\n",
    "# Train a random forest classifier using the segmented statistics\n",
    "classifier_pixel = ee.Classifier.smileRandomForest(10).train(\n",
    "    features=training_pixel,\n",
    "    classProperty='code_lu',\n",
    "    inputProperties=image_norm_with_spectral_indices_FCD.bandNames()\n",
    "    # inputProperties=stats_image_spectralindices_fcd.bandNames()\n",
    ")\n",
    "\n",
    "# Classify the segments using the trained classifier\n",
    "classified_image_basedpixel = image_norm_with_spectral_indices_FCD.classify(classifier_pixel)\n"
   ]
  },
  {
   "cell_type": "code",
   "execution_count": null,
   "metadata": {},
   "outputs": [],
   "source": [
    "# visualization of Landcover in ML LC, not yet classified as ZONES ##########\n",
    "# pallette segment classes\n",
    "'''{\n",
    "  1: 'forest', #83ff5a\n",
    "  2: 'shrub',  #ffe3b3\n",
    "  3: 'grass', #ffff33\n",
    "  4: 'openland', #f89696\n",
    "  5: 'water',  #1900ff\n",
    "  6: 'plantation', #e6e6fa\n",
    "  7: 'infrastructure', #FFFFFF\n",
    "}'''\n",
    "\n",
    "pallette_class_segment = ['#83ff5a',\n",
    "                            '#ffe3b3',\n",
    "                            '#ffff33',\n",
    "                            '#f89696',\n",
    "                            '#1900ff',\n",
    "                            '#e6e6fa',\n",
    "                            '#FFFFFF'\n",
    "                            ]\n",
    "vis_param_segment = {'min': 1, 'max': 7, 'palette': pallette_class_segment}\n",
    "############\n",
    "\n",
    "\n",
    "# add to layer this pixel based result\n",
    "classified_image_basedpixel_arcgis = adding_ee_to_arcgisPro(classified_image_basedpixel, \n",
    "                                                  vis_param_segment, \n",
    "                                                  'Classified pixel based')"
   ]
  },
  {
   "cell_type": "code",
   "execution_count": null,
   "metadata": {},
   "outputs": [],
   "source": [
    "# # statistic_all_bands image\n",
    "# stats_image_spectralindices_fcd = stats_image\n",
    "stats_image_spectralindices_fcd = object_properties_image\n",
    "\n",
    "# Sample the points from the shapefile for training\n",
    "training_stats = stats_image_spectralindices_fcd.sampleRegions(\n",
    "    collection=training_points,\n",
    "    properties=['code_lu'],\n",
    "    scale=5\n",
    ")\n",
    "\n",
    "############ RANDOM FOREST\n",
    "# Train a random forest classifier using the segmented statistics\n",
    "classifier_rf = ee.Classifier.smileRandomForest(10).train(\n",
    "                      features=training_stats,\n",
    "                      classProperty='code_lu',\n",
    "                      inputProperties=stats_image_spectralindices_fcd.bandNames()\n",
    "                    )\n",
    "\n",
    "# Classify the segments using the trained classifier\n",
    "classified_segments_rf_stat = stats_image_spectralindices_fcd.classify(classifier_rf)\n",
    "# add to layer this all stat segment result\n",
    "classified_segments_rf_stat_arcgis = adding_ee_to_arcgisPro(classified_segments_rf_stat, \n",
    "                                                            vis_param_segment, \n",
    "                                                            'Classified Segments_all_stats_RandomForest')"
   ]
  },
  {
   "cell_type": "code",
   "execution_count": null,
   "metadata": {},
   "outputs": [],
   "source": [
    "# Train a Support Vector Machine (SVM) classifier\n",
    "classifier_svm = ee.Classifier.libsvm().train(\n",
    "    features=training_stats,\n",
    "    classProperty='code_lu',\n",
    "    inputProperties=stats_image_spectralindices_fcd.bandNames()\n",
    ")\n",
    "\n",
    "# Classify the image using the trained classifier\n",
    "classified_image_svm = stats_image_spectralindices_fcd.classify(classifier_svm)\n",
    "classified_image_svm_arcgis = adding_ee_to_arcgisPro(classified_image_svm, vis_param_segment, \n",
    "                                                     'SVM Classification')\n",
    "\n",
    "# Train a Gradient Boosting Classifier\n",
    "classifier_gbm = ee.Classifier.smileGradientTreeBoost (#numberOfTrees, shrinkage, samplingRate, maxNodes, loss, seed\n",
    "    numberOfTrees=100,\n",
    ").train(\n",
    "    features=training_stats,\n",
    "    classProperty='code_lu',\n",
    "    inputProperties=stats_image_spectralindices_fcd.bandNames()\n",
    ")\n",
    "\n",
    "# Classify the image using the trained classifier\n",
    "classified_image_gbm = stats_image_spectralindices_fcd.classify(classifier_gbm)\n",
    "classified_image_gbm_arcgis = adding_ee_to_arcgisPro(classified_image_gbm,\n",
    "                                                     vis_param_segment, 'GBM Classification')\n",
    "\n",
    "# Train a CART classifier\n",
    "classifier_cart = ee.Classifier.smileCart().train(\n",
    "    features=training_stats,\n",
    "    classProperty='code_lu',\n",
    "    inputProperties=stats_image_spectralindices_fcd.bandNames()\n",
    ")\n",
    "\n",
    "# Classify the image using the trained classifier\n",
    "classified_image_cart = stats_image_spectralindices_fcd.classify(classifier_cart)\n",
    "classified_image_cart_arcgis = adding_ee_to_arcgisPro(classified_image_cart, \n",
    "                                                      vis_param_segment, 'CART Classification')"
   ]
  },
  {
   "cell_type": "code",
   "execution_count": null,
   "metadata": {},
   "outputs": [],
   "source": [
    "## REVISIT and REUSE/ REDISPLAY FCD RESULT LC\n",
    "\n",
    "'''{\n",
    "  1: 'forest', #83ff5a\n",
    "  2: 'shrub',  #ffe3b3\n",
    "  3: 'grass', #ffff33\n",
    "  4: 'openland', #f89696\n",
    "  5: 'water'  #1900ff\n",
    "}'''\n",
    "\n",
    "AllForest = list_images_classified['AllForest']\n",
    "Shrubland = list_images_classified['Shrubland']\n",
    "Grassland = list_images_classified['Grassland']\n",
    "Openland = list_images_classified['Openland']\n",
    "Water_Un_plantable = list_images_classified['Water_Un_plantable']\n",
    "\n",
    "#FCD LC for confusing matrix\n",
    "forest_lc_fcd = AllForest.multiply(0).add(1).rename('classification').select(['classification'])\n",
    "shrub_lc_fcd = Shrubland.multiply(0).add(2).rename('classification').select(['classification'])\n",
    "grass_lc_fcd = Grassland.multiply(0).add(3).rename('classification').select(['classification'])\n",
    "openland_lc_fcd = Openland.multiply(0).add(4).rename('classification').select(['classification'])\n",
    "water_lc_fcd = Water_Un_plantable.multiply(0).add(5).rename('classification').select(['classification'])\n",
    "\n",
    "# Create a list of images excluding the 'empty_image'\n",
    "image_list_lc_fcd = [\n",
    "    forest_lc_fcd,\n",
    "    shrub_lc_fcd,\n",
    "    grass_lc_fcd,\n",
    "    openland_lc_fcd,\n",
    "    water_lc_fcd,\n",
    "]\n",
    "\n",
    "# Create an ImageCollection from the list of images\n",
    "image_collection_fcd_lc = ee.ImageCollection(image_list_lc_fcd)\n",
    "\n",
    "empty_image = ee.Image.constant(0).rename('Class')\n",
    "\n",
    "def add_classes(image, empty):\n",
    "    # Cast the image to Int32 to handle NaN and null values\n",
    "    image = image.unmask(0).toInt32()\n",
    "    # Set a conditional statement to retain existing class values if non-zero, otherwise use the new class value\n",
    "    merged_image = empty.where(empty.neq(0), empty).where(image.neq(0), image)\n",
    "    return merged_image\n",
    "\n",
    "# Apply the add_classes function to each image in the collection while merging them into the 'empty_image'\n",
    "result_collection_fcd_lc = image_collection_fcd_lc.map(lambda image: add_classes(image, empty_image))\n",
    "\n",
    "# Create a function to add two images element-wise\n",
    "def add_images(img1, img2):\n",
    "    return ee.Image(img1).add(img2)\n",
    "\n",
    "# Merge all the images in the result_collection using ee.ImageCollection.iterate()\n",
    "fcd_class_lc_image = ee.Image(result_collection_fcd_lc.iterate(add_images, empty_image))\n",
    "\n",
    "# Cast the merged image to Int32 and set the original Class band name\n",
    "fcd_class_lc_image = fcd_class_lc_image.toInt32().rename('classification')\n",
    "fcd_class_lc_image = fcd_class_lc_image.clip(AOI)\n",
    "\n",
    "pallette_class_segment = ['#83ff5a',\n",
    "                            '#ffe3b3',\n",
    "                            '#ffff33',\n",
    "                            '#f89696',\n",
    "                            '#1900ff',\n",
    "                            ]\n",
    "vis_param_segment = {'min': 1, 'max': 5, 'palette': pallette_class_segment}\n",
    "############\n",
    "\n",
    "\n",
    "# add to layer this pixel based result\n",
    "fcd_class_lc_image_arcgis = adding_ee_to_arcgisPro(fcd_class_lc_image, \n",
    "                                                   vis_param_segment, \n",
    "                                                   'Classified FCD threshold method LC')"
   ]
  },
  {
   "cell_type": "code",
   "execution_count": null,
   "metadata": {},
   "outputs": [],
   "source": [
    "# Assess the accuracy using the validation set\n",
    "fcd_lc_validated = fcd_class_lc_image.sampleRegions(\n",
    "    collection=validation_points,\n",
    "    properties=['code_lu'],\n",
    "    scale=5\n",
    ")\n",
    "\n",
    "\n",
    "pixel_validated = classified_image_basedpixel.sampleRegions(\n",
    "    collection=validation_points,\n",
    "    properties=['code_lu'],\n",
    "    scale=5\n",
    ")\n",
    "\n",
    "# rf_mean_validated = classified_segments_mean.sampleRegions(\n",
    "#     collection=validation_points,\n",
    "#     properties=['code_lu'],\n",
    "#     scale=5\n",
    "# )\n",
    "\n",
    "rf_stat_validated = classified_segments_rf_stat.sampleRegions(\n",
    "    collection=validation_points,\n",
    "    properties=['code_lu'],\n",
    "    scale=5\n",
    ")\n",
    "\n",
    "svm_stat_validated = classified_image_svm.sampleRegions(\n",
    "    collection=validation_points,\n",
    "    properties=['code_lu'],\n",
    "    scale=5\n",
    ")\n",
    "\n",
    "gbm_stat_validated = classified_image_gbm.sampleRegions(\n",
    "    collection=validation_points,\n",
    "    properties=['code_lu'],\n",
    "    scale=5\n",
    ")\n",
    "\n",
    "cart_stat_validated = classified_image_cart.sampleRegions(\n",
    "    collection=validation_points,\n",
    "    properties=['code_lu'],\n",
    "    scale=5\n",
    ")\n",
    "\n",
    "# Get the confusion matrix for both classifiers\n",
    "fcd_confusion_matrix = fcd_lc_validated.errorMatrix('code_lu', 'classification')\n",
    "pixel_confusion_matrix = pixel_validated.errorMatrix('code_lu', 'classification')\n",
    "# rf_mean_confusion_matrix = rf_mean_validated.errorMatrix('code_lu', 'classification')\n",
    "rf_stat_confusion_matrix = rf_stat_validated.errorMatrix('code_lu', 'classification')\n",
    "svm_stat_confusion_matrix = svm_stat_validated.errorMatrix('code_lu', 'classification')\n",
    "gbm_stat_confusion_matrix = gbm_stat_validated.errorMatrix('code_lu', 'classification')\n",
    "cart_stat_confusion_matrix = cart_stat_validated.errorMatrix('code_lu', 'classification')\n",
    "\n",
    "\n",
    "# Print the accuracy metrics\n",
    "print('FCD LC Confusion Matrix:', fcd_confusion_matrix.getInfo())\n",
    "print('FCD LC Overall Accuracy:', fcd_confusion_matrix.accuracy().getInfo())\n",
    "print('FCD LC Producer\\'s Accuracy:', fcd_confusion_matrix.producersAccuracy().getInfo())\n",
    "print('FCD LC User\\'s Accuracy:', fcd_confusion_matrix.consumersAccuracy().getInfo())\n",
    "print('FCD LC Kappa:', fcd_confusion_matrix.kappa().getInfo())\n",
    "\n",
    "print(\"\\n--------------------------\\n\")\n",
    "\n",
    "print('Random Forest Pixel Confusion Matrix:', pixel_confusion_matrix.getInfo())\n",
    "print('Random Forest Pixel Overall Accuracy:', pixel_confusion_matrix.accuracy().getInfo())\n",
    "print('Random Forest Pixel Producer\\'s Accuracy:', pixel_confusion_matrix.producersAccuracy().getInfo())\n",
    "print('Random Forest Pixel User\\'s Accuracy:', pixel_confusion_matrix.consumersAccuracy().getInfo())\n",
    "print('Random Forest Pixel Kappa:', pixel_confusion_matrix.kappa().getInfo())\n",
    "\n",
    "print(\"\\n--------------------------\\n\")\n",
    "\n",
    "# print('Random Forest Segment Mean Confusion  Matrix:', rf_mean_confusion_matrix.getInfo())\n",
    "# print('Random Forest Segment Mean Overall Accuracy:', rf_mean_confusion_matrix.accuracy().getInfo())\n",
    "# print('Random Forest Segment Mean Producer\\'s Accuracy:', rf_mean_confusion_matrix.producersAccuracy().getInfo())\n",
    "# print('Random Forest Segment Mean User\\'s Accuracy:', rf_mean_confusion_matrix.consumersAccuracy().getInfo())\n",
    "# print('Random Forest Segment Mean Kappa:', rf_mean_confusion_matrix.kappa().getInfo())\n",
    "\n",
    "# print(\"\\n--------------------------\\n\")\n",
    "\n",
    "print('Random Forest Segment ALL STAT Confusion Matrix:', rf_stat_confusion_matrix.getInfo())\n",
    "print('Random Forest Segment ALL STAT Overall Accuracy:', rf_stat_confusion_matrix.accuracy().getInfo())\n",
    "print('Random Forest Segment ALL STAT Producer\\'s Accuracy:', rf_stat_confusion_matrix.producersAccuracy().getInfo())\n",
    "print('Random Forest Segment ALL STAT User\\'s Accuracy:', rf_stat_confusion_matrix.consumersAccuracy().getInfo())\n",
    "print('Random Forest Segment ALL STAT Kappa:', rf_stat_confusion_matrix.kappa().getInfo())\n",
    "\n",
    "print(\"\\n--------------------------\\n\")\n",
    "\n",
    "print('SVM Segment ALL STAT Confusion Matrix:', svm_stat_confusion_matrix.getInfo())\n",
    "print('SVM Segment ALL STAT Overall Accuracy:', svm_stat_confusion_matrix.accuracy().getInfo())\n",
    "print('SVM Segment ALL STAT Producer\\'s Accuracy:', svm_stat_confusion_matrix.producersAccuracy().getInfo())\n",
    "print('SVM Segment ALL STAT User\\'s Accuracy:', svm_stat_confusion_matrix.consumersAccuracy().getInfo())\n",
    "print('SVM Segment ALL STAT Kappa:', svm_stat_confusion_matrix.kappa().getInfo())\n",
    "\n",
    "print(\"\\n--------------------------\\n\")\n",
    "\n",
    "print('GBM Segment ALL STAT Confusion Matrix:', gbm_stat_confusion_matrix.getInfo())\n",
    "print('GBM Segment ALL STAT Overall Accuracy:', gbm_stat_confusion_matrix.accuracy().getInfo())\n",
    "print('GBM Segment ALL STAT Producer\\'s Accuracy:', gbm_stat_confusion_matrix.producersAccuracy().getInfo())\n",
    "print('GBM Segment ALL STAT User\\'s Accuracy:', gbm_stat_confusion_matrix.consumersAccuracy().getInfo())\n",
    "print('GBM Segment ALL STAT Kappa:', gbm_stat_confusion_matrix.kappa().getInfo())\n",
    "\n",
    "print(\"\\n--------------------------\\n\")\n",
    "\n",
    "print('CART Segment ALL STAT Confusion Matrix:', cart_stat_confusion_matrix.getInfo())\n",
    "print('CART Segment ALL STAT Overall Accuracy:', cart_stat_confusion_matrix.accuracy().getInfo())\n",
    "print('CART Segment ALL STAT Producer\\'s Accuracy:', cart_stat_confusion_matrix.producersAccuracy().getInfo())\n",
    "print('CART Segment ALL STAT User\\'s Accuracy:', cart_stat_confusion_matrix.consumersAccuracy().getInfo())\n",
    "print('CART Segment ALL STAT Kappa:', cart_stat_confusion_matrix.kappa().getInfo())\n"
   ]
  },
  {
   "cell_type": "code",
   "execution_count": null,
   "metadata": {},
   "outputs": [],
   "source": []
  }
 ],
 "metadata": {
  "kernelspec": {
   "display_name": "Python 3 (ipykernel)",
   "language": "python",
   "name": "python3"
  },
  "language_info": {
   "codemirror_mode": {
    "name": "ipython",
    "version": 3
   },
   "file_extension": ".py",
   "mimetype": "text/x-python",
   "name": "python",
   "nbconvert_exporter": "python",
   "pygments_lexer": "ipython3",
   "version": "3.11.8"
  }
 },
 "nbformat": 4,
 "nbformat_minor": 2
}
