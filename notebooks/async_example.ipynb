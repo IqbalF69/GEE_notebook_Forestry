{
 "cells": [
  {
   "cell_type": "code",
   "execution_count": 1,
   "id": "6e4c62c7",
   "metadata": {},
   "outputs": [],
   "source": [
    "import ee"
   ]
  },
  {
   "cell_type": "code",
   "execution_count": 2,
   "id": "03d2251f",
   "metadata": {},
   "outputs": [
    {
     "data": {
      "text/html": [
       "<p>To authorize access needed by Earth Engine, open the following\n",
       "        URL in a web browser and follow the instructions:</p>\n",
       "        <p><a href=https://code.earthengine.google.com/client-auth?scopes=https%3A//www.googleapis.com/auth/earthengine%20https%3A//www.googleapis.com/auth/devstorage.full_control&request_id=cNLQqZEyIjbpsnQzaTMhwkFJN16T-jpNfqfsxvXYjaM&tc=WpM-wmgTxA5-TSJUJnI5uQkVr-tGcso89hh5S3S7goQ&cc=nCrX3jGlr751UV1oUp61nvMz8OR_zZqnuM17NDXigsE>https://code.earthengine.google.com/client-auth?scopes=https%3A//www.googleapis.com/auth/earthengine%20https%3A//www.googleapis.com/auth/devstorage.full_control&request_id=cNLQqZEyIjbpsnQzaTMhwkFJN16T-jpNfqfsxvXYjaM&tc=WpM-wmgTxA5-TSJUJnI5uQkVr-tGcso89hh5S3S7goQ&cc=nCrX3jGlr751UV1oUp61nvMz8OR_zZqnuM17NDXigsE</a></p>\n",
       "        <p>The authorization workflow will generate a code, which you should paste in the box below.</p>\n",
       "        "
      ],
      "text/plain": [
       "<IPython.core.display.HTML object>"
      ]
     },
     "metadata": {},
     "output_type": "display_data"
    },
    {
     "name": "stdout",
     "output_type": "stream",
     "text": [
      "Enter verification code: 4/1Adeu5BVql01Z1FNfJSVId2h4xa5XgE-SpeD_tJTnPj9Gywfk_pwZl47Ofog\n",
      "\n",
      "Successfully saved authorization token.\n"
     ]
    }
   ],
   "source": [
    "# Trigger the authentication flow. if you want to user json, please comment this\n",
    "ee.Authenticate()\n",
    "# Initialize the library.\n",
    "ee.Initialize()"
   ]
  },
  {
   "cell_type": "code",
   "execution_count": 43,
   "id": "e09856e5",
   "metadata": {},
   "outputs": [],
   "source": [
    "import threading"
   ]
  },
  {
   "cell_type": "code",
   "execution_count": 44,
   "id": "520f7602",
   "metadata": {},
   "outputs": [
    {
     "name": "stdout",
     "output_type": "stream",
     "text": [
      "[5, 10, 15, 20, 25, 30]\n"
     ]
    }
   ],
   "source": [
    "def retrieve(f):\n",
    "    def wrap(obj, *args):\n",
    "        f(obj.getInfo(), *args)\n",
    "    return wrap\n",
    "\n",
    "\n",
    "def evaluate(obj, callback, args):\n",
    "    args.insert(0, obj)\n",
    "    callback = retrieve(callback)\n",
    "    thd = threading.Thread(target=callback, args=args)\n",
    "    thd.start()\n",
    "    \n",
    "\n",
    "# EE object\n",
    "eeobj = ee.List([1,2,3,4,5,6])\n",
    "    \n",
    "# use case 1: printing values\n",
    "def callback1(obj, n):\n",
    "    print([i*n for i in obj])\n",
    "\n",
    "evaluate(eeobj, callback1, [5])\n",
    "\n",
    "# use case 2: filling a container\n",
    "container = []\n",
    "def callback2(obj, cont):\n",
    "    \"\"\" filling a container \"\"\"\n",
    "    for item in obj:\n",
    "        cont.append(item)\n",
    "        \n",
    "evaluate(eeobj, callback2, [container])\n",
    "\n",
    "\n"
   ]
  },
  {
   "cell_type": "code",
   "execution_count": 45,
   "id": "960c8e1c",
   "metadata": {},
   "outputs": [
    {
     "name": "stdout",
     "output_type": "stream",
     "text": [
      "[1, 2, 3, 4, 5, 6]\n"
     ]
    }
   ],
   "source": [
    "# wait 2 sec and...\n",
    "print(container)"
   ]
  },
  {
   "cell_type": "code",
   "execution_count": 14,
   "id": "0980615d",
   "metadata": {},
   "outputs": [],
   "source": [
    "evaluate(eeobj, callback2, [container])"
   ]
  },
  {
   "cell_type": "code",
   "execution_count": 16,
   "id": "8dff2d39",
   "metadata": {},
   "outputs": [],
   "source": [
    "import asyncio"
   ]
  },
  {
   "cell_type": "code",
   "execution_count": 21,
   "id": "78ea9b95",
   "metadata": {},
   "outputs": [
    {
     "name": "stdout",
     "output_type": "stream",
     "text": [
      "One\n",
      "Two\n",
      "One\n",
      "Two\n",
      "One\n",
      "Two\n",
      " executed in 3.00 seconds.\n"
     ]
    }
   ],
   "source": [
    "# syncrhonous\n",
    "import time\n",
    "\n",
    "def count():\n",
    "    print(\"One\")\n",
    "    time.sleep(1)\n",
    "    print(\"Two\")\n",
    "\n",
    "def main():\n",
    "    for _ in range(3):\n",
    "        count()\n",
    "\n",
    "if __name__ == \"__main__\":\n",
    "    s = time.perf_counter()\n",
    "    main()\n",
    "    elapsed = time.perf_counter() - s\n",
    "    print(f\" executed in {elapsed:0.2f} seconds.\")"
   ]
  },
  {
   "cell_type": "code",
   "execution_count": 26,
   "id": "5b23ca79",
   "metadata": {},
   "outputs": [
    {
     "name": "stdout",
     "output_type": "stream",
     "text": [
      "0\n",
      "1\n",
      "2\n"
     ]
    }
   ],
   "source": [
    "for i in range(3):\n",
    "    print(i)"
   ]
  },
  {
   "cell_type": "code",
   "execution_count": 23,
   "id": "ac422073",
   "metadata": {},
   "outputs": [
    {
     "name": "stdout",
     "output_type": "stream",
     "text": [
      "One\n",
      "One\n",
      "One\n",
      "Two\n",
      "Two\n",
      "Two\n",
      " executed in 1.00 seconds.\n"
     ]
    }
   ],
   "source": [
    "# asynchronous\n",
    "import asyncio\n",
    "\n",
    "async def count():\n",
    "    print(\"One\")\n",
    "    await asyncio.sleep(1)\n",
    "    print(\"Two\")\n",
    "\n",
    "async def main():\n",
    "    await asyncio.gather(count(), count(), count())\n",
    "\n",
    "if __name__ == \"__main__\":\n",
    "    import time\n",
    "    s = time.perf_counter()\n",
    "    \n",
    "    # In your case, jupyter (IPython ≥ 7.0) is already running an event loop:\n",
    "    #asyncio.run(main())\n",
    "    \n",
    "    await main()\n",
    "    elapsed = time.perf_counter() - s\n",
    "    print(f\" executed in {elapsed:0.2f} seconds.\")"
   ]
  },
  {
   "cell_type": "code",
   "execution_count": 24,
   "id": "d74f4476",
   "metadata": {},
   "outputs": [],
   "source": [
    "async def g():\n",
    "    # Pause here and come back to g() when f() is ready\n",
    "    r = await f()\n",
    "    return r"
   ]
  },
  {
   "cell_type": "code",
   "execution_count": 25,
   "id": "d40f0264",
   "metadata": {},
   "outputs": [
    {
     "ename": "SyntaxError",
     "evalue": "'yield from' inside async function (1355037374.py, line 9)",
     "output_type": "error",
     "traceback": [
      "\u001b[1;36m  Cell \u001b[1;32mIn[25], line 9\u001b[1;36m\u001b[0m\n\u001b[1;33m    yield from gen(x)  # No - SyntaxError\u001b[0m\n\u001b[1;37m    ^\u001b[0m\n\u001b[1;31mSyntaxError\u001b[0m\u001b[1;31m:\u001b[0m 'yield from' inside async function\n"
     ]
    }
   ],
   "source": [
    "async def f(x):\n",
    "    y = await z(x)  # OK - `await` and `return` allowed in coroutines\n",
    "    return y\n",
    "\n",
    "async def g(x):\n",
    "    yield x  # OK - this is an async generator\n",
    "\n",
    "async def m(x):\n",
    "    yield from gen(x)  # No - SyntaxError\n",
    "\n",
    "def m(x):\n",
    "    y = await z(x)  # Still no - SyntaxError (no `async def` here)\n",
    "    return y"
   ]
  },
  {
   "cell_type": "code",
   "execution_count": 27,
   "id": "deca6386",
   "metadata": {},
   "outputs": [],
   "source": [
    "eeobj = ee.List([1,2,3,4,5,6])"
   ]
  },
  {
   "cell_type": "code",
   "execution_count": 28,
   "id": "95de987d",
   "metadata": {},
   "outputs": [],
   "source": [
    "async def fetch_image(collection_id, geometry):\n",
    "    # Perform an Earth Engine task asynchronously\n",
    "    image = ee.ImageCollection(collection_id).filterBounds(geometry).first()\n",
    "    await asyncio.sleep(1)  # Simulate some async work\n",
    "    return image.getInfo()"
   ]
  },
  {
   "cell_type": "code",
   "execution_count": 29,
   "id": "506bb40d",
   "metadata": {},
   "outputs": [],
   "source": [
    "async def main():\n",
    "    # Define your geometry or other parameters\n",
    "    geometry = ee.Geometry.Point(-122.082, 37.42)\n",
    "\n",
    "    # Create a list of tasks to run concurrently\n",
    "    tasks = [\n",
    "        fetch_image('LANDSAT/LC08/C01/T1_TOA', geometry),\n",
    "        fetch_image('COPERNICUS/S2', geometry),\n",
    "    ]\n",
    "\n",
    "    # Gather the results of the tasks\n",
    "    results = await asyncio.gather(*tasks)\n",
    "\n",
    "    # Process the results as needed\n",
    "    for result in results:\n",
    "        print(result)"
   ]
  },
  {
   "cell_type": "code",
   "execution_count": 32,
   "id": "8bfd9ee5",
   "metadata": {},
   "outputs": [
    {
     "name": "stdout",
     "output_type": "stream",
     "text": [
      "{'type': 'Image', 'bands': [{'id': 'B1', 'data_type': {'type': 'PixelType', 'precision': 'float'}, 'dimensions': [7511, 7351], 'crs': 'EPSG:32610', 'crs_transform': [30, 0, 494085, 0, -30, 4257915]}, {'id': 'B2', 'data_type': {'type': 'PixelType', 'precision': 'float'}, 'dimensions': [7511, 7351], 'crs': 'EPSG:32610', 'crs_transform': [30, 0, 494085, 0, -30, 4257915]}, {'id': 'B3', 'data_type': {'type': 'PixelType', 'precision': 'float'}, 'dimensions': [7511, 7351], 'crs': 'EPSG:32610', 'crs_transform': [30, 0, 494085, 0, -30, 4257915]}, {'id': 'B4', 'data_type': {'type': 'PixelType', 'precision': 'float'}, 'dimensions': [7511, 7351], 'crs': 'EPSG:32610', 'crs_transform': [30, 0, 494085, 0, -30, 4257915]}, {'id': 'B5', 'data_type': {'type': 'PixelType', 'precision': 'float'}, 'dimensions': [7511, 7351], 'crs': 'EPSG:32610', 'crs_transform': [30, 0, 494085, 0, -30, 4257915]}, {'id': 'B6', 'data_type': {'type': 'PixelType', 'precision': 'float'}, 'dimensions': [7511, 7351], 'crs': 'EPSG:32610', 'crs_transform': [30, 0, 494085, 0, -30, 4257915]}, {'id': 'B7', 'data_type': {'type': 'PixelType', 'precision': 'float'}, 'dimensions': [7511, 7351], 'crs': 'EPSG:32610', 'crs_transform': [30, 0, 494085, 0, -30, 4257915]}, {'id': 'B8', 'data_type': {'type': 'PixelType', 'precision': 'float'}, 'dimensions': [15021, 14701], 'crs': 'EPSG:32610', 'crs_transform': [15, 0, 494092.5, 0, -15, 4257907.5]}, {'id': 'B9', 'data_type': {'type': 'PixelType', 'precision': 'float'}, 'dimensions': [7511, 7351], 'crs': 'EPSG:32610', 'crs_transform': [30, 0, 494085, 0, -30, 4257915]}, {'id': 'B10', 'data_type': {'type': 'PixelType', 'precision': 'float'}, 'dimensions': [7511, 7351], 'crs': 'EPSG:32610', 'crs_transform': [30, 0, 494085, 0, -30, 4257915]}, {'id': 'B11', 'data_type': {'type': 'PixelType', 'precision': 'float'}, 'dimensions': [7511, 7351], 'crs': 'EPSG:32610', 'crs_transform': [30, 0, 494085, 0, -30, 4257915]}, {'id': 'BQA', 'data_type': {'type': 'PixelType', 'precision': 'int', 'min': 0, 'max': 65535}, 'dimensions': [7511, 7351], 'crs': 'EPSG:32610', 'crs_transform': [30, 0, 494085, 0, -30, 4257915]}], 'version': 1655337549451297, 'id': 'LANDSAT/LC08/C01/T1_TOA/LC08_044034_20130409', 'properties': {'RADIANCE_MULT_BAND_5': 0.00609199982136488, 'RADIANCE_MULT_BAND_6': 0.0015150000108405948, 'RADIANCE_MULT_BAND_3': 0.011806000024080276, 'RADIANCE_MULT_BAND_4': 0.009955099783837795, 'RADIANCE_MULT_BAND_1': 0.012511000037193298, 'RADIANCE_MULT_BAND_2': 0.01281100045889616, 'K2_CONSTANT_BAND_11': 1201.1441650390625, 'K2_CONSTANT_BAND_10': 1321.078857421875, 'system:footprint': {'type': 'LinearRing', 'coordinates': [[-123.06358710510132, 36.8633609482674], [-123.06272804832815, 36.86267156335577], [-121.52760276705891, 36.5713194763866], [-121.00459794482437, 36.467038618235456], [-120.84546804784641, 36.978712048296025], [-120.82569548685966, 37.04210637906386], [-120.80618726938106, 37.10460923782187], [-120.7792355850528, 37.19088142180353], [-120.73958781436916, 37.317487881005604], [-120.70922757600728, 37.41423289474712], [-120.64144886779137, 37.629449412771955], [-120.60743326010949, 37.737154542032904], [-120.54865419358048, 37.923168487655346], [-120.52001060194267, 38.013803490703864], [-120.5027477474137, 38.06924150051513], [-120.50267508434146, 38.07137597329512], [-120.5379650531887, 38.07840852118765], [-121.8766167779963, 38.335270752267164], [-122.60513442672054, 38.46794398256013], [-122.6095660966365, 38.45358105461426], [-123.06358710510132, 36.8633609482674]]}, 'REFLECTIVE_SAMPLES': 7511, 'SUN_AZIMUTH': 142.7425079345703, 'CPF_NAME': 'LC08CPF_20130401_20130627_01.01', 'DATE_ACQUIRED': '2013-04-09', 'ELLIPSOID': 'WGS84', 'google:registration_offset_x': -303.0460205078125, 'google:registration_offset_y': -287.3323669433594, 'STATION_ID': 'LGN', 'RESAMPLING_OPTION': 'CUBIC_CONVOLUTION', 'ORIENTATION': 'NORTH_UP', 'WRS_ROW': 34, 'RADIANCE_MULT_BAND_9': 0.0023809000849723816, 'TARGET_WRS_ROW': 34, 'RADIANCE_MULT_BAND_7': 0.0005106499884277582, 'RADIANCE_MULT_BAND_8': 0.011265999637544155, 'IMAGE_QUALITY_TIRS': 9, 'TRUNCATION_OLI': 'UPPER', 'CLOUD_COVER': 0.05000000074505806, 'GEOMETRIC_RMSE_VERIFY': 3.359999895095825, 'COLLECTION_CATEGORY': 'T1', 'GRID_CELL_SIZE_REFLECTIVE': 30, 'CLOUD_COVER_LAND': 0.05999999865889549, 'GEOMETRIC_RMSE_MODEL': 6.677999973297119, 'COLLECTION_NUMBER': 1, 'IMAGE_QUALITY_OLI': 9, 'LANDSAT_SCENE_ID': 'LC80440342013099LGN03', 'WRS_PATH': 44, 'google:registration_count': 9, 'PANCHROMATIC_SAMPLES': 15021, 'PANCHROMATIC_LINES': 14701, 'GEOMETRIC_RMSE_MODEL_Y': 4.78000020980835, 'REFLECTIVE_LINES': 7351, 'TIRS_STRAY_LIGHT_CORRECTION_SOURCE': 'TIRS', 'GEOMETRIC_RMSE_MODEL_X': 4.663000106811523, 'system:asset_size': 1107459784, 'system:index': 'LC08_044034_20130409', 'REFLECTANCE_ADD_BAND_1': -0.10000000149011612, 'REFLECTANCE_ADD_BAND_2': -0.10000000149011612, 'DATUM': 'WGS84', 'REFLECTANCE_ADD_BAND_3': -0.10000000149011612, 'REFLECTANCE_ADD_BAND_4': -0.10000000149011612, 'RLUT_FILE_NAME': 'LC08RLUT_20130211_20150302_01_11.h5', 'REFLECTANCE_ADD_BAND_5': -0.10000000149011612, 'REFLECTANCE_ADD_BAND_6': -0.10000000149011612, 'REFLECTANCE_ADD_BAND_7': -0.10000000149011612, 'REFLECTANCE_ADD_BAND_8': -0.10000000149011612, 'BPF_NAME_TIRS': 'LT8BPF20130409183233_20130409184905.01', 'GROUND_CONTROL_POINTS_VERSION': 4, 'DATA_TYPE': 'L1TP', 'UTM_ZONE': 10, 'system:time_end': 1365533194757, 'LANDSAT_PRODUCT_ID': 'LC08_L1TP_044034_20130409_20180201_01_T1', 'REFLECTANCE_ADD_BAND_9': -0.10000000149011612, 'google:registration_ratio': 0.1764705926179886, 'GRID_CELL_SIZE_PANCHROMATIC': 15, 'RADIANCE_ADD_BAND_4': -49.77534103393555, 'REFLECTANCE_MULT_BAND_7': 1.9999999494757503e-05, 'system:time_start': 1365533194757, 'RADIANCE_ADD_BAND_5': -30.46002960205078, 'REFLECTANCE_MULT_BAND_6': 1.9999999494757503e-05, 'RADIANCE_ADD_BAND_6': -7.575129985809326, 'REFLECTANCE_MULT_BAND_9': 1.9999999494757503e-05, 'PROCESSING_SOFTWARE_VERSION': 'LPGS_13.0.0', 'RADIANCE_ADD_BAND_7': -2.553230047225952, 'REFLECTANCE_MULT_BAND_8': 1.9999999494757503e-05, 'RADIANCE_ADD_BAND_1': -62.55445098876953, 'RADIANCE_ADD_BAND_2': -64.0565185546875, 'RADIANCE_ADD_BAND_3': -59.02753829956055, 'REFLECTANCE_MULT_BAND_1': 1.9999999494757503e-05, 'RADIANCE_ADD_BAND_8': -56.33198928833008, 'REFLECTANCE_MULT_BAND_3': 1.9999999494757503e-05, 'RADIANCE_ADD_BAND_9': -11.904470443725586, 'REFLECTANCE_MULT_BAND_2': 1.9999999494757503e-05, 'REFLECTANCE_MULT_BAND_5': 1.9999999494757503e-05, 'REFLECTANCE_MULT_BAND_4': 1.9999999494757503e-05, 'THERMAL_LINES': 7351, 'TIRS_SSM_POSITION_STATUS': 'NOMINAL', 'GRID_CELL_SIZE_THERMAL': 30, 'NADIR_OFFNADIR': 'NADIR', 'RADIANCE_ADD_BAND_11': 0.10000000149011612, 'REQUEST_ID': '0501801301034_00024', 'EARTH_SUN_DISTANCE': 1.0017913579940796, 'TIRS_SSM_MODEL': 'ACTUAL', 'FILE_DATE': 1517463510000, 'SCENE_CENTER_TIME': '18:46:34.7579070Z', 'SUN_ELEVATION': 55.02650451660156, 'BPF_NAME_OLI': 'LO8BPF20130409183627_20130409184813.01', 'RADIANCE_ADD_BAND_10': 0.10000000149011612, 'ROLL_ANGLE': -0.0010000000474974513, 'K1_CONSTANT_BAND_10': 774.8853149414062, 'SATURATION_BAND_1': 'Y', 'SATURATION_BAND_2': 'Y', 'SATURATION_BAND_3': 'Y', 'SATURATION_BAND_4': 'Y', 'SATURATION_BAND_5': 'Y', 'MAP_PROJECTION': 'UTM', 'SATURATION_BAND_6': 'Y', 'SENSOR_ID': 'OLI_TIRS', 'SATURATION_BAND_7': 'Y', 'K1_CONSTANT_BAND_11': 480.8883056640625, 'SATURATION_BAND_8': 'N', 'SATURATION_BAND_9': 'N', 'TARGET_WRS_PATH': 44, 'RADIANCE_MULT_BAND_11': 0.00033420001273043454, 'RADIANCE_MULT_BAND_10': 0.00033420001273043454, 'GROUND_CONTROL_POINTS_MODEL': 464, 'SPACECRAFT_ID': 'LANDSAT_8', 'ELEVATION_SOURCE': 'GLS2000', 'THERMAL_SAMPLES': 7511, 'GROUND_CONTROL_POINTS_VERIFY': 141}}\n",
      "{'type': 'Image', 'bands': [{'id': 'B1', 'data_type': {'type': 'PixelType', 'precision': 'int', 'min': 0, 'max': 65535}, 'dimensions': [1830, 1830], 'crs': 'EPSG:32610', 'crs_transform': [60, 0, 499980, 0, -60, 4200000]}, {'id': 'B2', 'data_type': {'type': 'PixelType', 'precision': 'int', 'min': 0, 'max': 65535}, 'dimensions': [10980, 10980], 'crs': 'EPSG:32610', 'crs_transform': [10, 0, 499980, 0, -10, 4200000]}, {'id': 'B3', 'data_type': {'type': 'PixelType', 'precision': 'int', 'min': 0, 'max': 65535}, 'dimensions': [10980, 10980], 'crs': 'EPSG:32610', 'crs_transform': [10, 0, 499980, 0, -10, 4200000]}, {'id': 'B4', 'data_type': {'type': 'PixelType', 'precision': 'int', 'min': 0, 'max': 65535}, 'dimensions': [10980, 10980], 'crs': 'EPSG:32610', 'crs_transform': [10, 0, 499980, 0, -10, 4200000]}, {'id': 'B5', 'data_type': {'type': 'PixelType', 'precision': 'int', 'min': 0, 'max': 65535}, 'dimensions': [5490, 5490], 'crs': 'EPSG:32610', 'crs_transform': [20, 0, 499980, 0, -20, 4200000]}, {'id': 'B6', 'data_type': {'type': 'PixelType', 'precision': 'int', 'min': 0, 'max': 65535}, 'dimensions': [5490, 5490], 'crs': 'EPSG:32610', 'crs_transform': [20, 0, 499980, 0, -20, 4200000]}, {'id': 'B7', 'data_type': {'type': 'PixelType', 'precision': 'int', 'min': 0, 'max': 65535}, 'dimensions': [5490, 5490], 'crs': 'EPSG:32610', 'crs_transform': [20, 0, 499980, 0, -20, 4200000]}, {'id': 'B8', 'data_type': {'type': 'PixelType', 'precision': 'int', 'min': 0, 'max': 65535}, 'dimensions': [10980, 10980], 'crs': 'EPSG:32610', 'crs_transform': [10, 0, 499980, 0, -10, 4200000]}, {'id': 'B8A', 'data_type': {'type': 'PixelType', 'precision': 'int', 'min': 0, 'max': 65535}, 'dimensions': [5490, 5490], 'crs': 'EPSG:32610', 'crs_transform': [20, 0, 499980, 0, -20, 4200000]}, {'id': 'B9', 'data_type': {'type': 'PixelType', 'precision': 'int', 'min': 0, 'max': 65535}, 'dimensions': [1830, 1830], 'crs': 'EPSG:32610', 'crs_transform': [60, 0, 499980, 0, -60, 4200000]}, {'id': 'B10', 'data_type': {'type': 'PixelType', 'precision': 'int', 'min': 0, 'max': 65535}, 'dimensions': [1830, 1830], 'crs': 'EPSG:32610', 'crs_transform': [60, 0, 499980, 0, -60, 4200000]}, {'id': 'B11', 'data_type': {'type': 'PixelType', 'precision': 'int', 'min': 0, 'max': 65535}, 'dimensions': [5490, 5490], 'crs': 'EPSG:32610', 'crs_transform': [20, 0, 499980, 0, -20, 4200000]}, {'id': 'B12', 'data_type': {'type': 'PixelType', 'precision': 'int', 'min': 0, 'max': 65535}, 'dimensions': [5490, 5490], 'crs': 'EPSG:32610', 'crs_transform': [20, 0, 499980, 0, -20, 4200000]}, {'id': 'QA10', 'data_type': {'type': 'PixelType', 'precision': 'int', 'min': 0, 'max': 65535}, 'dimensions': [10980, 10980], 'crs': 'EPSG:32610', 'crs_transform': [10, 0, 499980, 0, -10, 4200000]}, {'id': 'QA20', 'data_type': {'type': 'PixelType', 'precision': 'int', 'min': 0, 'max': 4294967295}, 'dimensions': [5490, 5490], 'crs': 'EPSG:32610', 'crs_transform': [20, 0, 499980, 0, -20, 4200000]}, {'id': 'QA60', 'data_type': {'type': 'PixelType', 'precision': 'int', 'min': 0, 'max': 65535}, 'dimensions': [1830, 1830], 'crs': 'EPSG:32610', 'crs_transform': [60, 0, 499980, 0, -60, 4200000]}], 'id': 'COPERNICUS/S2/20150918T190346_20150918T190345_T10SEG', 'version': 1617759501324424, 'properties': {'DATATAKE_IDENTIFIER': 'GS2A_20150918T190346_001254_N02.04', 'SPACECRAFT_NAME': 'Sentinel-2A', 'FORMAT_CORRECTNESS_FLAG': 'FAILED', 'MEAN_INCIDENCE_AZIMUTH_ANGLE_B8A': 113.085145653, 'MEAN_SOLAR_AZIMUTH_ANGLE': 155.520802249, 'system:footprint': {'type': 'LinearRing', 'coordinates': [[-123.0003408468679, 37.94760085151261], [-123.00034179205034, 37.947589574707514], [-123.00033723798937, 36.95806136788806], [-123.00029152551673, 36.95801992306331], [-123.0002526011579, 36.95797423741872], [-123.00023412711913, 36.957971363363285], [-121.76721790044816, 36.95157206200717], [-121.76716539030087, 36.951608138255864], [-121.76710775082277, 36.95163857717662], [-121.76710392557732, 36.95165337679644], [-121.7590314099813, 37.44633070146803], [-121.75075919661508, 37.9409574689974], [-121.75080484540509, 37.940999372863686], [-121.75084345122438, 37.94104550336575], [-121.75086214547893, 37.94104856554029], [-123.00022759676041, 37.94767956582706], [-123.00028018332104, 37.94764299733767], [-123.00033818317185, 37.94761187496444], [-123.0003408468679, 37.94760085151261]]}, 'SOLAR_IRRADIANCE_B12': 85.25, 'SOLAR_IRRADIANCE_B10': 367.15, 'SENSOR_QUALITY': 'PASSED', 'SOLAR_IRRADIANCE_B11': 245.59, 'GENERATION_TIME': 1442603025000, 'SOLAR_IRRADIANCE_B8A': 955.19, 'FORMAT_CORRECTNESS': 'FAILED', 'SENSOR_QUALITY_FLAG': 'PASSED', 'CLOUD_COVERAGE_ASSESSMENT': 0.0071, 'system:time_end': 1442603025000, 'system:time_start': 1442603025000, 'DATASTRIP_ID': 'S2A_OPER_MSI_L1C_DS_EPA__20161023T053304_S20150918T190345_N02.04', 'PROCESSING_BASELINE': '02.04', 'SENSING_ORBIT_NUMBER': 113, 'GEOMETRIC_QUALITY_FLAG': 'PASSED', 'SENSING_ORBIT_DIRECTION': 'DESCENDING', 'GENERAL_QUALITY': 'PASSED', 'GRANULE_ID': 'L1C_T10SEG_A001254_20150918T190345', 'REFLECTANCE_CONVERSION_CORRECTION': 0.989196102546, 'MEAN_INCIDENCE_AZIMUTH_ANGLE_B8': 117.375087633, 'DATATAKE_TYPE': 'INS-NOBS', 'MEAN_INCIDENCE_AZIMUTH_ANGLE_B9': 112.703892403, 'MEAN_INCIDENCE_AZIMUTH_ANGLE_B6': 113.781767352, 'MEAN_INCIDENCE_AZIMUTH_ANGLE_B7': 113.429971443, 'RADIOMETRIC_QUALITY_FLAG': 'PASSED', 'MEAN_INCIDENCE_AZIMUTH_ANGLE_B4': 114.860467426, 'MEAN_INCIDENCE_ZENITH_ANGLE_B1': 4.10463558147, 'MEAN_INCIDENCE_AZIMUTH_ANGLE_B5': 114.278708152, 'RADIOMETRIC_QUALITY': 'PASSED', 'MEAN_INCIDENCE_AZIMUTH_ANGLE_B2': 118.700159768, 'MEAN_INCIDENCE_AZIMUTH_ANGLE_B3': 116.317463176, 'MEAN_INCIDENCE_ZENITH_ANGLE_B5': 3.81792721208, 'MEAN_INCIDENCE_AZIMUTH_ANGLE_B1': 112.888330546, 'MEAN_INCIDENCE_ZENITH_ANGLE_B4': 3.75431131352, 'MEAN_INCIDENCE_ZENITH_ANGLE_B3': 3.64909959066, 'MEAN_INCIDENCE_ZENITH_ANGLE_B2': 3.55502377781, 'MEAN_INCIDENCE_ZENITH_ANGLE_B9': 4.18468747896, 'MEAN_INCIDENCE_ZENITH_ANGLE_B8': 3.59910323361, 'MEAN_INCIDENCE_ZENITH_ANGLE_B7': 3.95628231412, 'MEAN_INCIDENCE_ZENITH_ANGLE_B6': 3.88532397314, 'MEAN_SOLAR_ZENITH_ANGLE': 38.2160381382, 'MEAN_INCIDENCE_ZENITH_ANGLE_B8A': 4.0306246164, 'MGRS_TILE': '10SEG', 'CLOUDY_PIXEL_PERCENTAGE': 0.0071, 'GENERAL_QUALITY_FLAG': 'PASSED', 'PRODUCT_ID': 'S2A_MSIL1C_20150918T190346_N0204_R113_T10SEG_20150918T190345', 'MEAN_INCIDENCE_ZENITH_ANGLE_B10': 3.71616565101, 'SOLAR_IRRADIANCE_B9': 813.04, 'DEGRADED_MSI_DATA_PERCENTAGE': 0, 'MEAN_INCIDENCE_ZENITH_ANGLE_B11': 3.86695364611, 'MEAN_INCIDENCE_ZENITH_ANGLE_B12': 4.03649184989, 'SOLAR_IRRADIANCE_B6': 1288.32, 'MEAN_INCIDENCE_AZIMUTH_ANGLE_B10': 115.346184821, 'SOLAR_IRRADIANCE_B5': 1425.56, 'MEAN_INCIDENCE_AZIMUTH_ANGLE_B11': 113.915695021, 'SOLAR_IRRADIANCE_B8': 1036.39, 'MEAN_INCIDENCE_AZIMUTH_ANGLE_B12': 112.994684872, 'SOLAR_IRRADIANCE_B7': 1163.19, 'SOLAR_IRRADIANCE_B2': 1941.63, 'SOLAR_IRRADIANCE_B1': 1913.57, 'SOLAR_IRRADIANCE_B4': 1512.79, 'GEOMETRIC_QUALITY': 'PASSED', 'SOLAR_IRRADIANCE_B3': 1822.61, 'system:asset_size': 1122470203, 'system:index': '20150918T190346_20150918T190345_T10SEG'}}\n",
      " executed in 12.25 seconds.\n"
     ]
    }
   ],
   "source": [
    "if __name__ == \"__main__\":\n",
    "    import time\n",
    "    s = time.perf_counter()\n",
    "    \n",
    "    # In your case, jupyter (IPython ≥ 7.0) is already running an event loop:\n",
    "    #asyncio.run(main())\n",
    "    \n",
    "    await main()\n",
    "    elapsed = time.perf_counter() - s\n",
    "    print(f\" executed in {elapsed:0.2f} seconds.\")"
   ]
  },
  {
   "cell_type": "code",
   "execution_count": 33,
   "id": "d360cc1c",
   "metadata": {},
   "outputs": [],
   "source": [
    "def fetch_image(collection_id, geometry):\n",
    "    # Perform an Earth Engine task synchronously\n",
    "    image = ee.ImageCollection(collection_id).filterBounds(geometry).first()\n",
    "    #await asyncio.sleep(1)  # Simulate some async work\n",
    "    return image.getInfo()"
   ]
  },
  {
   "cell_type": "code",
   "execution_count": 34,
   "id": "0530273e",
   "metadata": {},
   "outputs": [],
   "source": [
    "def main():\n",
    "    # Define your geometry or other parameters\n",
    "    geometry = ee.Geometry.Point(-122.082, 37.42)\n",
    "\n",
    "    # run sync a list of tasks\n",
    "    print(fetch_image('LANDSAT/LC08/C01/T1_TOA', geometry))\n",
    "    print(fetch_image('COPERNICUS/S2', geometry))\n",
    "    "
   ]
  },
  {
   "cell_type": "code",
   "execution_count": 35,
   "id": "b0068c88",
   "metadata": {},
   "outputs": [
    {
     "name": "stdout",
     "output_type": "stream",
     "text": [
      "{'type': 'Image', 'bands': [{'id': 'B1', 'data_type': {'type': 'PixelType', 'precision': 'float'}, 'dimensions': [7511, 7351], 'crs': 'EPSG:32610', 'crs_transform': [30, 0, 494085, 0, -30, 4257915]}, {'id': 'B2', 'data_type': {'type': 'PixelType', 'precision': 'float'}, 'dimensions': [7511, 7351], 'crs': 'EPSG:32610', 'crs_transform': [30, 0, 494085, 0, -30, 4257915]}, {'id': 'B3', 'data_type': {'type': 'PixelType', 'precision': 'float'}, 'dimensions': [7511, 7351], 'crs': 'EPSG:32610', 'crs_transform': [30, 0, 494085, 0, -30, 4257915]}, {'id': 'B4', 'data_type': {'type': 'PixelType', 'precision': 'float'}, 'dimensions': [7511, 7351], 'crs': 'EPSG:32610', 'crs_transform': [30, 0, 494085, 0, -30, 4257915]}, {'id': 'B5', 'data_type': {'type': 'PixelType', 'precision': 'float'}, 'dimensions': [7511, 7351], 'crs': 'EPSG:32610', 'crs_transform': [30, 0, 494085, 0, -30, 4257915]}, {'id': 'B6', 'data_type': {'type': 'PixelType', 'precision': 'float'}, 'dimensions': [7511, 7351], 'crs': 'EPSG:32610', 'crs_transform': [30, 0, 494085, 0, -30, 4257915]}, {'id': 'B7', 'data_type': {'type': 'PixelType', 'precision': 'float'}, 'dimensions': [7511, 7351], 'crs': 'EPSG:32610', 'crs_transform': [30, 0, 494085, 0, -30, 4257915]}, {'id': 'B8', 'data_type': {'type': 'PixelType', 'precision': 'float'}, 'dimensions': [15021, 14701], 'crs': 'EPSG:32610', 'crs_transform': [15, 0, 494092.5, 0, -15, 4257907.5]}, {'id': 'B9', 'data_type': {'type': 'PixelType', 'precision': 'float'}, 'dimensions': [7511, 7351], 'crs': 'EPSG:32610', 'crs_transform': [30, 0, 494085, 0, -30, 4257915]}, {'id': 'B10', 'data_type': {'type': 'PixelType', 'precision': 'float'}, 'dimensions': [7511, 7351], 'crs': 'EPSG:32610', 'crs_transform': [30, 0, 494085, 0, -30, 4257915]}, {'id': 'B11', 'data_type': {'type': 'PixelType', 'precision': 'float'}, 'dimensions': [7511, 7351], 'crs': 'EPSG:32610', 'crs_transform': [30, 0, 494085, 0, -30, 4257915]}, {'id': 'BQA', 'data_type': {'type': 'PixelType', 'precision': 'int', 'min': 0, 'max': 65535}, 'dimensions': [7511, 7351], 'crs': 'EPSG:32610', 'crs_transform': [30, 0, 494085, 0, -30, 4257915]}], 'version': 1655337549451297, 'id': 'LANDSAT/LC08/C01/T1_TOA/LC08_044034_20130409', 'properties': {'RADIANCE_MULT_BAND_5': 0.00609199982136488, 'RADIANCE_MULT_BAND_6': 0.0015150000108405948, 'RADIANCE_MULT_BAND_3': 0.011806000024080276, 'RADIANCE_MULT_BAND_4': 0.009955099783837795, 'RADIANCE_MULT_BAND_1': 0.012511000037193298, 'RADIANCE_MULT_BAND_2': 0.01281100045889616, 'K2_CONSTANT_BAND_11': 1201.1441650390625, 'K2_CONSTANT_BAND_10': 1321.078857421875, 'system:footprint': {'type': 'LinearRing', 'coordinates': [[-123.06358710510132, 36.8633609482674], [-123.06272804832815, 36.86267156335577], [-121.52760276705891, 36.5713194763866], [-121.00459794482437, 36.467038618235456], [-120.84546804784641, 36.978712048296025], [-120.82569548685966, 37.04210637906386], [-120.80618726938106, 37.10460923782187], [-120.7792355850528, 37.19088142180353], [-120.73958781436916, 37.317487881005604], [-120.70922757600728, 37.41423289474712], [-120.64144886779137, 37.629449412771955], [-120.60743326010949, 37.737154542032904], [-120.54865419358048, 37.923168487655346], [-120.52001060194267, 38.013803490703864], [-120.5027477474137, 38.06924150051513], [-120.50267508434146, 38.07137597329512], [-120.5379650531887, 38.07840852118765], [-121.8766167779963, 38.335270752267164], [-122.60513442672054, 38.46794398256013], [-122.6095660966365, 38.45358105461426], [-123.06358710510132, 36.8633609482674]]}, 'REFLECTIVE_SAMPLES': 7511, 'SUN_AZIMUTH': 142.7425079345703, 'CPF_NAME': 'LC08CPF_20130401_20130627_01.01', 'DATE_ACQUIRED': '2013-04-09', 'ELLIPSOID': 'WGS84', 'google:registration_offset_x': -303.0460205078125, 'google:registration_offset_y': -287.3323669433594, 'STATION_ID': 'LGN', 'RESAMPLING_OPTION': 'CUBIC_CONVOLUTION', 'ORIENTATION': 'NORTH_UP', 'WRS_ROW': 34, 'RADIANCE_MULT_BAND_9': 0.0023809000849723816, 'TARGET_WRS_ROW': 34, 'RADIANCE_MULT_BAND_7': 0.0005106499884277582, 'RADIANCE_MULT_BAND_8': 0.011265999637544155, 'IMAGE_QUALITY_TIRS': 9, 'TRUNCATION_OLI': 'UPPER', 'CLOUD_COVER': 0.05000000074505806, 'GEOMETRIC_RMSE_VERIFY': 3.359999895095825, 'COLLECTION_CATEGORY': 'T1', 'GRID_CELL_SIZE_REFLECTIVE': 30, 'CLOUD_COVER_LAND': 0.05999999865889549, 'GEOMETRIC_RMSE_MODEL': 6.677999973297119, 'COLLECTION_NUMBER': 1, 'IMAGE_QUALITY_OLI': 9, 'LANDSAT_SCENE_ID': 'LC80440342013099LGN03', 'WRS_PATH': 44, 'google:registration_count': 9, 'PANCHROMATIC_SAMPLES': 15021, 'PANCHROMATIC_LINES': 14701, 'GEOMETRIC_RMSE_MODEL_Y': 4.78000020980835, 'REFLECTIVE_LINES': 7351, 'TIRS_STRAY_LIGHT_CORRECTION_SOURCE': 'TIRS', 'GEOMETRIC_RMSE_MODEL_X': 4.663000106811523, 'system:asset_size': 1107459784, 'system:index': 'LC08_044034_20130409', 'REFLECTANCE_ADD_BAND_1': -0.10000000149011612, 'REFLECTANCE_ADD_BAND_2': -0.10000000149011612, 'DATUM': 'WGS84', 'REFLECTANCE_ADD_BAND_3': -0.10000000149011612, 'REFLECTANCE_ADD_BAND_4': -0.10000000149011612, 'RLUT_FILE_NAME': 'LC08RLUT_20130211_20150302_01_11.h5', 'REFLECTANCE_ADD_BAND_5': -0.10000000149011612, 'REFLECTANCE_ADD_BAND_6': -0.10000000149011612, 'REFLECTANCE_ADD_BAND_7': -0.10000000149011612, 'REFLECTANCE_ADD_BAND_8': -0.10000000149011612, 'BPF_NAME_TIRS': 'LT8BPF20130409183233_20130409184905.01', 'GROUND_CONTROL_POINTS_VERSION': 4, 'DATA_TYPE': 'L1TP', 'UTM_ZONE': 10, 'system:time_end': 1365533194757, 'LANDSAT_PRODUCT_ID': 'LC08_L1TP_044034_20130409_20180201_01_T1', 'REFLECTANCE_ADD_BAND_9': -0.10000000149011612, 'google:registration_ratio': 0.1764705926179886, 'GRID_CELL_SIZE_PANCHROMATIC': 15, 'RADIANCE_ADD_BAND_4': -49.77534103393555, 'REFLECTANCE_MULT_BAND_7': 1.9999999494757503e-05, 'system:time_start': 1365533194757, 'RADIANCE_ADD_BAND_5': -30.46002960205078, 'REFLECTANCE_MULT_BAND_6': 1.9999999494757503e-05, 'RADIANCE_ADD_BAND_6': -7.575129985809326, 'REFLECTANCE_MULT_BAND_9': 1.9999999494757503e-05, 'PROCESSING_SOFTWARE_VERSION': 'LPGS_13.0.0', 'RADIANCE_ADD_BAND_7': -2.553230047225952, 'REFLECTANCE_MULT_BAND_8': 1.9999999494757503e-05, 'RADIANCE_ADD_BAND_1': -62.55445098876953, 'RADIANCE_ADD_BAND_2': -64.0565185546875, 'RADIANCE_ADD_BAND_3': -59.02753829956055, 'REFLECTANCE_MULT_BAND_1': 1.9999999494757503e-05, 'RADIANCE_ADD_BAND_8': -56.33198928833008, 'REFLECTANCE_MULT_BAND_3': 1.9999999494757503e-05, 'RADIANCE_ADD_BAND_9': -11.904470443725586, 'REFLECTANCE_MULT_BAND_2': 1.9999999494757503e-05, 'REFLECTANCE_MULT_BAND_5': 1.9999999494757503e-05, 'REFLECTANCE_MULT_BAND_4': 1.9999999494757503e-05, 'THERMAL_LINES': 7351, 'TIRS_SSM_POSITION_STATUS': 'NOMINAL', 'GRID_CELL_SIZE_THERMAL': 30, 'NADIR_OFFNADIR': 'NADIR', 'RADIANCE_ADD_BAND_11': 0.10000000149011612, 'REQUEST_ID': '0501801301034_00024', 'EARTH_SUN_DISTANCE': 1.0017913579940796, 'TIRS_SSM_MODEL': 'ACTUAL', 'FILE_DATE': 1517463510000, 'SCENE_CENTER_TIME': '18:46:34.7579070Z', 'SUN_ELEVATION': 55.02650451660156, 'BPF_NAME_OLI': 'LO8BPF20130409183627_20130409184813.01', 'RADIANCE_ADD_BAND_10': 0.10000000149011612, 'ROLL_ANGLE': -0.0010000000474974513, 'K1_CONSTANT_BAND_10': 774.8853149414062, 'SATURATION_BAND_1': 'Y', 'SATURATION_BAND_2': 'Y', 'SATURATION_BAND_3': 'Y', 'SATURATION_BAND_4': 'Y', 'SATURATION_BAND_5': 'Y', 'MAP_PROJECTION': 'UTM', 'SATURATION_BAND_6': 'Y', 'SENSOR_ID': 'OLI_TIRS', 'SATURATION_BAND_7': 'Y', 'K1_CONSTANT_BAND_11': 480.8883056640625, 'SATURATION_BAND_8': 'N', 'SATURATION_BAND_9': 'N', 'TARGET_WRS_PATH': 44, 'RADIANCE_MULT_BAND_11': 0.00033420001273043454, 'RADIANCE_MULT_BAND_10': 0.00033420001273043454, 'GROUND_CONTROL_POINTS_MODEL': 464, 'SPACECRAFT_ID': 'LANDSAT_8', 'ELEVATION_SOURCE': 'GLS2000', 'THERMAL_SAMPLES': 7511, 'GROUND_CONTROL_POINTS_VERIFY': 141}}\n",
      "{'type': 'Image', 'bands': [{'id': 'B1', 'data_type': {'type': 'PixelType', 'precision': 'int', 'min': 0, 'max': 65535}, 'dimensions': [1830, 1830], 'crs': 'EPSG:32610', 'crs_transform': [60, 0, 499980, 0, -60, 4200000]}, {'id': 'B2', 'data_type': {'type': 'PixelType', 'precision': 'int', 'min': 0, 'max': 65535}, 'dimensions': [10980, 10980], 'crs': 'EPSG:32610', 'crs_transform': [10, 0, 499980, 0, -10, 4200000]}, {'id': 'B3', 'data_type': {'type': 'PixelType', 'precision': 'int', 'min': 0, 'max': 65535}, 'dimensions': [10980, 10980], 'crs': 'EPSG:32610', 'crs_transform': [10, 0, 499980, 0, -10, 4200000]}, {'id': 'B4', 'data_type': {'type': 'PixelType', 'precision': 'int', 'min': 0, 'max': 65535}, 'dimensions': [10980, 10980], 'crs': 'EPSG:32610', 'crs_transform': [10, 0, 499980, 0, -10, 4200000]}, {'id': 'B5', 'data_type': {'type': 'PixelType', 'precision': 'int', 'min': 0, 'max': 65535}, 'dimensions': [5490, 5490], 'crs': 'EPSG:32610', 'crs_transform': [20, 0, 499980, 0, -20, 4200000]}, {'id': 'B6', 'data_type': {'type': 'PixelType', 'precision': 'int', 'min': 0, 'max': 65535}, 'dimensions': [5490, 5490], 'crs': 'EPSG:32610', 'crs_transform': [20, 0, 499980, 0, -20, 4200000]}, {'id': 'B7', 'data_type': {'type': 'PixelType', 'precision': 'int', 'min': 0, 'max': 65535}, 'dimensions': [5490, 5490], 'crs': 'EPSG:32610', 'crs_transform': [20, 0, 499980, 0, -20, 4200000]}, {'id': 'B8', 'data_type': {'type': 'PixelType', 'precision': 'int', 'min': 0, 'max': 65535}, 'dimensions': [10980, 10980], 'crs': 'EPSG:32610', 'crs_transform': [10, 0, 499980, 0, -10, 4200000]}, {'id': 'B8A', 'data_type': {'type': 'PixelType', 'precision': 'int', 'min': 0, 'max': 65535}, 'dimensions': [5490, 5490], 'crs': 'EPSG:32610', 'crs_transform': [20, 0, 499980, 0, -20, 4200000]}, {'id': 'B9', 'data_type': {'type': 'PixelType', 'precision': 'int', 'min': 0, 'max': 65535}, 'dimensions': [1830, 1830], 'crs': 'EPSG:32610', 'crs_transform': [60, 0, 499980, 0, -60, 4200000]}, {'id': 'B10', 'data_type': {'type': 'PixelType', 'precision': 'int', 'min': 0, 'max': 65535}, 'dimensions': [1830, 1830], 'crs': 'EPSG:32610', 'crs_transform': [60, 0, 499980, 0, -60, 4200000]}, {'id': 'B11', 'data_type': {'type': 'PixelType', 'precision': 'int', 'min': 0, 'max': 65535}, 'dimensions': [5490, 5490], 'crs': 'EPSG:32610', 'crs_transform': [20, 0, 499980, 0, -20, 4200000]}, {'id': 'B12', 'data_type': {'type': 'PixelType', 'precision': 'int', 'min': 0, 'max': 65535}, 'dimensions': [5490, 5490], 'crs': 'EPSG:32610', 'crs_transform': [20, 0, 499980, 0, -20, 4200000]}, {'id': 'QA10', 'data_type': {'type': 'PixelType', 'precision': 'int', 'min': 0, 'max': 65535}, 'dimensions': [10980, 10980], 'crs': 'EPSG:32610', 'crs_transform': [10, 0, 499980, 0, -10, 4200000]}, {'id': 'QA20', 'data_type': {'type': 'PixelType', 'precision': 'int', 'min': 0, 'max': 4294967295}, 'dimensions': [5490, 5490], 'crs': 'EPSG:32610', 'crs_transform': [20, 0, 499980, 0, -20, 4200000]}, {'id': 'QA60', 'data_type': {'type': 'PixelType', 'precision': 'int', 'min': 0, 'max': 65535}, 'dimensions': [1830, 1830], 'crs': 'EPSG:32610', 'crs_transform': [60, 0, 499980, 0, -60, 4200000]}], 'id': 'COPERNICUS/S2/20150918T190346_20150918T190345_T10SEG', 'version': 1617759501324424, 'properties': {'DATATAKE_IDENTIFIER': 'GS2A_20150918T190346_001254_N02.04', 'SPACECRAFT_NAME': 'Sentinel-2A', 'FORMAT_CORRECTNESS_FLAG': 'FAILED', 'MEAN_INCIDENCE_AZIMUTH_ANGLE_B8A': 113.085145653, 'MEAN_SOLAR_AZIMUTH_ANGLE': 155.520802249, 'system:footprint': {'type': 'LinearRing', 'coordinates': [[-123.0003408468679, 37.94760085151261], [-123.00034179205034, 37.947589574707514], [-123.00033723798937, 36.95806136788806], [-123.00029152551673, 36.95801992306331], [-123.0002526011579, 36.95797423741872], [-123.00023412711913, 36.957971363363285], [-121.76721790044816, 36.95157206200717], [-121.76716539030087, 36.951608138255864], [-121.76710775082277, 36.95163857717662], [-121.76710392557732, 36.95165337679644], [-121.7590314099813, 37.44633070146803], [-121.75075919661508, 37.9409574689974], [-121.75080484540509, 37.940999372863686], [-121.75084345122438, 37.94104550336575], [-121.75086214547893, 37.94104856554029], [-123.00022759676041, 37.94767956582706], [-123.00028018332104, 37.94764299733767], [-123.00033818317185, 37.94761187496444], [-123.0003408468679, 37.94760085151261]]}, 'SOLAR_IRRADIANCE_B12': 85.25, 'SOLAR_IRRADIANCE_B10': 367.15, 'SENSOR_QUALITY': 'PASSED', 'SOLAR_IRRADIANCE_B11': 245.59, 'GENERATION_TIME': 1442603025000, 'SOLAR_IRRADIANCE_B8A': 955.19, 'FORMAT_CORRECTNESS': 'FAILED', 'SENSOR_QUALITY_FLAG': 'PASSED', 'CLOUD_COVERAGE_ASSESSMENT': 0.0071, 'system:time_end': 1442603025000, 'system:time_start': 1442603025000, 'DATASTRIP_ID': 'S2A_OPER_MSI_L1C_DS_EPA__20161023T053304_S20150918T190345_N02.04', 'PROCESSING_BASELINE': '02.04', 'SENSING_ORBIT_NUMBER': 113, 'GEOMETRIC_QUALITY_FLAG': 'PASSED', 'SENSING_ORBIT_DIRECTION': 'DESCENDING', 'GENERAL_QUALITY': 'PASSED', 'GRANULE_ID': 'L1C_T10SEG_A001254_20150918T190345', 'REFLECTANCE_CONVERSION_CORRECTION': 0.989196102546, 'MEAN_INCIDENCE_AZIMUTH_ANGLE_B8': 117.375087633, 'DATATAKE_TYPE': 'INS-NOBS', 'MEAN_INCIDENCE_AZIMUTH_ANGLE_B9': 112.703892403, 'MEAN_INCIDENCE_AZIMUTH_ANGLE_B6': 113.781767352, 'MEAN_INCIDENCE_AZIMUTH_ANGLE_B7': 113.429971443, 'RADIOMETRIC_QUALITY_FLAG': 'PASSED', 'MEAN_INCIDENCE_AZIMUTH_ANGLE_B4': 114.860467426, 'MEAN_INCIDENCE_ZENITH_ANGLE_B1': 4.10463558147, 'MEAN_INCIDENCE_AZIMUTH_ANGLE_B5': 114.278708152, 'RADIOMETRIC_QUALITY': 'PASSED', 'MEAN_INCIDENCE_AZIMUTH_ANGLE_B2': 118.700159768, 'MEAN_INCIDENCE_AZIMUTH_ANGLE_B3': 116.317463176, 'MEAN_INCIDENCE_ZENITH_ANGLE_B5': 3.81792721208, 'MEAN_INCIDENCE_AZIMUTH_ANGLE_B1': 112.888330546, 'MEAN_INCIDENCE_ZENITH_ANGLE_B4': 3.75431131352, 'MEAN_INCIDENCE_ZENITH_ANGLE_B3': 3.64909959066, 'MEAN_INCIDENCE_ZENITH_ANGLE_B2': 3.55502377781, 'MEAN_INCIDENCE_ZENITH_ANGLE_B9': 4.18468747896, 'MEAN_INCIDENCE_ZENITH_ANGLE_B8': 3.59910323361, 'MEAN_INCIDENCE_ZENITH_ANGLE_B7': 3.95628231412, 'MEAN_INCIDENCE_ZENITH_ANGLE_B6': 3.88532397314, 'MEAN_SOLAR_ZENITH_ANGLE': 38.2160381382, 'MEAN_INCIDENCE_ZENITH_ANGLE_B8A': 4.0306246164, 'MGRS_TILE': '10SEG', 'CLOUDY_PIXEL_PERCENTAGE': 0.0071, 'GENERAL_QUALITY_FLAG': 'PASSED', 'PRODUCT_ID': 'S2A_MSIL1C_20150918T190346_N0204_R113_T10SEG_20150918T190345', 'MEAN_INCIDENCE_ZENITH_ANGLE_B10': 3.71616565101, 'SOLAR_IRRADIANCE_B9': 813.04, 'DEGRADED_MSI_DATA_PERCENTAGE': 0, 'MEAN_INCIDENCE_ZENITH_ANGLE_B11': 3.86695364611, 'MEAN_INCIDENCE_ZENITH_ANGLE_B12': 4.03649184989, 'SOLAR_IRRADIANCE_B6': 1288.32, 'MEAN_INCIDENCE_AZIMUTH_ANGLE_B10': 115.346184821, 'SOLAR_IRRADIANCE_B5': 1425.56, 'MEAN_INCIDENCE_AZIMUTH_ANGLE_B11': 113.915695021, 'SOLAR_IRRADIANCE_B8': 1036.39, 'MEAN_INCIDENCE_AZIMUTH_ANGLE_B12': 112.994684872, 'SOLAR_IRRADIANCE_B7': 1163.19, 'SOLAR_IRRADIANCE_B2': 1941.63, 'SOLAR_IRRADIANCE_B1': 1913.57, 'SOLAR_IRRADIANCE_B4': 1512.79, 'GEOMETRIC_QUALITY': 'PASSED', 'SOLAR_IRRADIANCE_B3': 1822.61, 'system:asset_size': 1122470203, 'system:index': '20150918T190346_20150918T190345_T10SEG'}}\n",
      " executed in 26.28 seconds.\n"
     ]
    }
   ],
   "source": [
    "if __name__ == \"__main__\":\n",
    "    s = time.perf_counter()\n",
    "    main()\n",
    "    elapsed = time.perf_counter() - s\n",
    "    print(f\" executed in {elapsed:0.2f} seconds.\")"
   ]
  },
  {
   "cell_type": "code",
   "execution_count": 37,
   "id": "36566e0a",
   "metadata": {},
   "outputs": [
    {
     "name": "stdout",
     "output_type": "stream",
     "text": [
      "[5, 10, 15, 20, 25, 30]\n",
      "[1, 2, 3, 4, 5, 6]\n"
     ]
    }
   ],
   "source": [
    "# EE object\n",
    "eeobj = ee.List([1, 2, 3, 4, 5, 6])\n",
    "\n",
    "# Async function to retrieve data and invoke the callback\n",
    "async def evaluate_async(obj, callback, args):\n",
    "    try:\n",
    "        data = await asyncio.to_thread(obj.getInfo)\n",
    "        callback(data, *args)\n",
    "    except Exception as e:\n",
    "        print(f\"An error occurred: {e}\")\n",
    "\n",
    "# Use case 1: Printing values\n",
    "def callback1(obj, n):\n",
    "    print([i * n for i in obj])\n",
    "\n",
    "async def use_case1():\n",
    "    await evaluate_async(eeobj, callback1, [5])\n",
    "\n",
    "# Use case 2: Filling a container\n",
    "container = []\n",
    "\n",
    "def callback2(obj, cont):\n",
    "    \"\"\" Filling a container \"\"\"\n",
    "    for item in obj:\n",
    "        cont.append(item)\n",
    "\n",
    "async def use_case2():\n",
    "    await evaluate_async(eeobj, callback2, [container])\n",
    "\n",
    "async def main():\n",
    "    await asyncio.gather(use_case1(), use_case2())\n",
    "    # Wait for both use cases to complete\n",
    "\n",
    "if __name__ == '__main__':\n",
    "    #asyncio.run(main())\n",
    "    await main()\n",
    "    # Wait for the main async function to complete\n",
    "    print(container)  # Print the container after use_case2 has filled it"
   ]
  },
  {
   "cell_type": "code",
   "execution_count": 38,
   "id": "a1182d8b",
   "metadata": {},
   "outputs": [
    {
     "name": "stdout",
     "output_type": "stream",
     "text": [
      "[5, 10, 15, 20, 25, 30]\n",
      "[1, 2, 3, 4, 5, 6]\n"
     ]
    }
   ],
   "source": [
    "# Function to retrieve data and invoke the callback\n",
    "def evaluate_sync(obj, callback, args):\n",
    "    try:\n",
    "        data = obj.getInfo()\n",
    "        callback(data, *args)\n",
    "    except Exception as e:\n",
    "        print(f\"An error occurred: {e}\")\n",
    "\n",
    "# Use case 1: Printing values\n",
    "def callback1(obj, n):\n",
    "    print([i * n for i in obj])\n",
    "\n",
    "def use_case1():\n",
    "    evaluate_sync(eeobj, callback1, [5])\n",
    "\n",
    "# Use case 2: Filling a container\n",
    "container = []\n",
    "\n",
    "def callback2(obj, cont):\n",
    "    \"\"\" Filling a container \"\"\"\n",
    "    for item in obj:\n",
    "        cont.append(item)\n",
    "\n",
    "def use_case2():\n",
    "    evaluate_sync(eeobj, callback2, [container])\n",
    "\n",
    "def main():\n",
    "    use_case1()\n",
    "    use_case2()\n",
    "    # No need to wait since everything is synchronous\n",
    "\n",
    "if __name__ == '__main__':\n",
    "    main()\n",
    "    print(container)  # Print the container after use_case2 has filled it"
   ]
  }
 ],
 "metadata": {
  "kernelspec": {
   "display_name": "Python 3 (ipykernel)",
   "language": "python",
   "name": "python3"
  },
  "language_info": {
   "codemirror_mode": {
    "name": "ipython",
    "version": 3
   },
   "file_extension": ".py",
   "mimetype": "text/x-python",
   "name": "python",
   "nbconvert_exporter": "python",
   "pygments_lexer": "ipython3",
   "version": "3.11.4"
  }
 },
 "nbformat": 4,
 "nbformat_minor": 5
}
