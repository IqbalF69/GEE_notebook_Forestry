{
 "cells": [
  {
   "cell_type": "code",
   "execution_count": 1,
   "id": "66fa87a6",
   "metadata": {},
   "outputs": [
    {
     "data": {
      "text/html": [
       "<p>To authorize access needed by Earth Engine, open the following\n",
       "        URL in a web browser and follow the instructions:</p>\n",
       "        <p><a href=https://code.earthengine.google.com/client-auth?scopes=https%3A//www.googleapis.com/auth/earthengine%20https%3A//www.googleapis.com/auth/devstorage.full_control&request_id=-Zor5H1g6N_BTNm1zLcmPwHLclDwYyJAjKuv-TQrcT8&tc=UWlopVx6vT35wMzmKQN2dTREr3wpYdwWTOi2Moefyho&cc=sf01cesx40lTn2yM1pg64N4TDQXBepGMDc_5EViON20>https://code.earthengine.google.com/client-auth?scopes=https%3A//www.googleapis.com/auth/earthengine%20https%3A//www.googleapis.com/auth/devstorage.full_control&request_id=-Zor5H1g6N_BTNm1zLcmPwHLclDwYyJAjKuv-TQrcT8&tc=UWlopVx6vT35wMzmKQN2dTREr3wpYdwWTOi2Moefyho&cc=sf01cesx40lTn2yM1pg64N4TDQXBepGMDc_5EViON20</a></p>\n",
       "        <p>The authorization workflow will generate a code, which you should paste in the box below.</p>\n",
       "        "
      ],
      "text/plain": [
       "<IPython.core.display.HTML object>"
      ]
     },
     "metadata": {},
     "output_type": "display_data"
    },
    {
     "name": "stdout",
     "output_type": "stream",
     "text": [
      "Enter verification code: 4/1AfJohXltzGpVVYJpMQrMWHNlEiBV66P0PkKZZSHbO6qhOtd2SmSNcWBeobM\n",
      "\n",
      "Successfully saved authorization token.\n"
     ]
    }
   ],
   "source": [
    "# if you want to have a pop up sign in method instead please uncomment  on ee.Authenticate and ee.Initialize, but comment on below\n",
    "\n",
    "import ee\n",
    "\n",
    "# Trigger the authentication flow. if you want to user json, please comment this\n",
    "ee.Authenticate()\n",
    "# Initialize the library.\n",
    "ee.Initialize()\n",
    "\n",
    "# here we try to use json api information instead (service account) - comment below if you use above methode\n",
    "#import ee\n",
    "import math\n",
    "from datetime import datetime\n",
    "\n",
    "# uncomment this if you want to use json instead\n",
    "#service_account = 'iqbalpythonapi@bukit30project.iam.gserviceaccount.com'\n",
    "#credentials = ee.ServiceAccountCredentials(service_account, './bukit30project-4d92e5b46ea7.json')\n",
    "#ee.Initialize(credentials)"
   ]
  },
  {
   "cell_type": "code",
   "execution_count": 2,
   "id": "fa6e32c2",
   "metadata": {},
   "outputs": [],
   "source": [
    "import geemap\n",
    "\n",
    "# AOI File (SHP) - added shp_local: please make a folder in the main directory: shp_local and put here as an input (example) - shp local not publish to github\n",
    "AOIt_shp = './shp_local/AOI_B30.shp'\n",
    "AOIt_shp_plot = geemap.shp_to_ee(AOIt_shp)\n",
    "crs_input = 'EPSG:4326'\n",
    "\n",
    "AOI = AOIt_shp_plot"
   ]
  },
  {
   "cell_type": "code",
   "execution_count": 3,
   "id": "5a510213",
   "metadata": {},
   "outputs": [],
   "source": [
    "from osi.image_collection.main import ImageCollectionComposite\n",
    "\n",
    "# initiate instance class for the image collection and later mosaicking\n",
    "classInputCollection = ImageCollectionComposite(AOI=AOI, date_start_end=['2022-1-1',\"2022-12-31\"], cloud_cover_threshold = 40)\n"
   ]
  },
  {
   "cell_type": "code",
   "execution_count": null,
   "id": "d687499d",
   "metadata": {},
   "outputs": [],
   "source": [
    "image_test = classInputCollection.merging_collection_landsat()"
   ]
  },
  {
   "cell_type": "code",
   "execution_count": 4,
   "id": "dc0a10dc",
   "metadata": {},
   "outputs": [],
   "source": [
    "Map = geemap.Map(center=(-3, 115), zoom=4)\n",
    "Map.centerObject(AOI, 10)"
   ]
  },
  {
   "cell_type": "code",
   "execution_count": null,
   "id": "afb56f0a",
   "metadata": {},
   "outputs": [],
   "source": [
    "Map.addLayer(image_test.median().clip(AOI))"
   ]
  },
  {
   "cell_type": "code",
   "execution_count": null,
   "id": "a6bb5cf8",
   "metadata": {},
   "outputs": [],
   "source": [
    "Map.addLayer(image_test,{'bands': ['swir2', 'nir', 'red'], 'min': 0, 'max': 0.6, 'gamma': 1.5 }, 'landsat_for_FCD_2023_uncorrected')"
   ]
  },
  {
   "cell_type": "code",
   "execution_count": null,
   "id": "d25184c0",
   "metadata": {},
   "outputs": [],
   "source": []
  },
  {
   "cell_type": "code",
   "execution_count": 5,
   "id": "f4c8232e",
   "metadata": {},
   "outputs": [],
   "source": [
    "image_test = classInputCollection.merging_collection_planet('asia')"
   ]
  },
  {
   "cell_type": "code",
   "execution_count": 6,
   "id": "c8b2d6f9",
   "metadata": {},
   "outputs": [],
   "source": [
    "Map.addLayer(image_test)"
   ]
  },
  {
   "cell_type": "code",
   "execution_count": 8,
   "id": "7cf28cdb",
   "metadata": {},
   "outputs": [],
   "source": [
    "# ADDING VISUAL FOR CHECKING AND VERIFY THE RESULT\n",
    "visPlanet_veg = {\"bands\":[\"red\",\"nir\",\"blue\"],\"min\":0,\"max\":0.6,\"gamma\":1.5}\n",
    "truePlanet_veg = {\"bands\":[\"red\",\"green\",\"blue\"],\"min\":0,\"max\":0.6,\"gamma\":1.5}\n",
    "\n",
    "Map.addLayer(image_test, visPlanet_veg , 'NICFI Cloudless Image - RNB', False)\n",
    "Map.addLayer(image_test, truePlanet_veg , 'NICFI Cloudless Image - RGB')"
   ]
  },
  {
   "cell_type": "code",
   "execution_count": null,
   "id": "9480b77d",
   "metadata": {},
   "outputs": [],
   "source": []
  },
  {
   "cell_type": "code",
   "execution_count": null,
   "id": "5b00bdec",
   "metadata": {},
   "outputs": [],
   "source": []
  },
  {
   "cell_type": "code",
   "execution_count": 7,
   "id": "556679f7",
   "metadata": {},
   "outputs": [
    {
     "data": {
      "application/vnd.jupyter.widget-view+json": {
       "model_id": "4ea07a4a778c4a66bd655e1f05c9e4f4",
       "version_major": 2,
       "version_minor": 0
      },
      "text/plain": [
       "Map(center=[-1.0232057340644143, 102.432211047781], controls=(WidgetControl(options=['position', 'transparent_…"
      ]
     },
     "execution_count": 7,
     "metadata": {},
     "output_type": "execute_result"
    }
   ],
   "source": [
    "Map"
   ]
  },
  {
   "cell_type": "code",
   "execution_count": null,
   "id": "b00c221b",
   "metadata": {},
   "outputs": [],
   "source": []
  },
  {
   "cell_type": "code",
   "execution_count": null,
   "id": "ce942f5c",
   "metadata": {},
   "outputs": [],
   "source": [
    "from lib_module.spectral_indices import main"
   ]
  },
  {
   "cell_type": "code",
   "execution_count": null,
   "id": "dc1123ac",
   "metadata": {},
   "outputs": [],
   "source": [
    "adding = main.adding_all(5)"
   ]
  },
  {
   "cell_type": "code",
   "execution_count": null,
   "id": "78e53daa",
   "metadata": {},
   "outputs": [],
   "source": [
    "adding"
   ]
  }
 ],
 "metadata": {
  "kernelspec": {
   "display_name": "Python 3 (ipykernel)",
   "language": "python",
   "name": "python3"
  },
  "language_info": {
   "codemirror_mode": {
    "name": "ipython",
    "version": 3
   },
   "file_extension": ".py",
   "mimetype": "text/x-python",
   "name": "python",
   "nbconvert_exporter": "python",
   "pygments_lexer": "ipython3",
   "version": "3.11.3"
  }
 },
 "nbformat": 4,
 "nbformat_minor": 5
}
