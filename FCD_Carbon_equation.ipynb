{
 "cells": [
  {
   "cell_type": "code",
   "execution_count": 1,
   "id": "d849aa19",
   "metadata": {},
   "outputs": [],
   "source": [
    "# if you want to have a pop up sign in method instead please uncomment  on ee.Authenticate and ee.Initialize, but comment on below\n",
    "\n",
    "import ee\n",
    "\n",
    "# Trigger the authentication flow. if you want to user json, please comment this\n",
    "#ee.Authenticate()\n",
    "# Initialize the library.\n",
    "#ee.Initialize()\n",
    "\n",
    "# here we try to use json api information instead (service account) - comment below if you use above methode\n",
    "#import ee\n",
    "import math\n",
    "from datetime import datetime\n",
    "\n",
    "# uncomment this if you want to use json instead\n",
    "service_account = 'iqbalpythonapi@bukit30project.iam.gserviceaccount.com'\n",
    "credentials = ee.ServiceAccountCredentials(service_account, './bukit30project-4d92e5b46ea7.json')\n",
    "ee.Initialize(credentials)"
   ]
  },
  {
   "cell_type": "code",
   "execution_count": 3,
   "id": "9a4b9f89",
   "metadata": {},
   "outputs": [],
   "source": [
    "image2017_B30 = ee.Image(\"users/muhfirdausiqbal/FCD_Check/B30_Landscape_LANDSAT_TC\")"
   ]
  },
  {
   "cell_type": "code",
   "execution_count": null,
   "id": "a316642d",
   "metadata": {},
   "outputs": [],
   "source": [
    "import geemap#.foliumap as geemap\n",
    "import geopandas as gpd\n",
    "import numpy as np\n",
    "from sklearn.metrics import confusion_matrix\n",
    "\n"
   ]
  }
 ],
 "metadata": {
  "kernelspec": {
   "display_name": "Python 3 (ipykernel)",
   "language": "python",
   "name": "python3"
  },
  "language_info": {
   "codemirror_mode": {
    "name": "ipython",
    "version": 3
   },
   "file_extension": ".py",
   "mimetype": "text/x-python",
   "name": "python",
   "nbconvert_exporter": "python",
   "pygments_lexer": "ipython3",
   "version": "3.11.4"
  }
 },
 "nbformat": 4,
 "nbformat_minor": 5
}
