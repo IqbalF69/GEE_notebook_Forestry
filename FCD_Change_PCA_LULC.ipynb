{
 "cells": [
  {
   "cell_type": "code",
   "execution_count": null,
   "id": "d849aa19",
   "metadata": {},
   "outputs": [],
   "source": [
    "# if you want to have a pop up sign in method instead please uncomment  on ee.Authenticate and ee.Initialize, but comment on below\n",
    "\n",
    "import ee\n",
    "\n",
    "# Trigger the authentication flow. if you want to user json, please comment this\n",
    "ee.Authenticate()\n",
    "# Initialize the library.\n",
    "ee.Initialize()\n",
    "\n",
    "# here we try to use json api information instead (service account) - comment below if you use above methode\n",
    "#import ee\n",
    "import math\n",
    "from datetime import datetime\n",
    "\n",
    "# uncomment this if you want to use json instead\n",
    "#service_account = 'iqbalpythonapi@bukit30project.iam.gserviceaccount.com'\n",
    "#credentials = ee.ServiceAccountCredentials(service_account, './bukit30project-4d92e5b46ea7.json')\n",
    "#ee.Initialize(credentials)"
   ]
  },
  {
   "cell_type": "code",
   "execution_count": null,
   "id": "9a4b9f89",
   "metadata": {},
   "outputs": [],
   "source": [
    "FCD = ee.Image(\"users/muhfirdausiqbal/FCD_Check/FCD_LANDSATB30__2016_2017_no_TI_1_1\")\n"
   ]
  },
  {
   "cell_type": "code",
   "execution_count": null,
   "id": "8b64d16c",
   "metadata": {},
   "outputs": [],
   "source": [
    "pca_scale = 30"
   ]
  },
  {
   "cell_type": "code",
   "execution_count": null,
   "id": "a316642d",
   "metadata": {},
   "outputs": [],
   "source": [
    "import geemap#.foliumap as geemap\n",
    "import geopandas as gpd\n",
    "import numpy as np\n",
    "from sklearn.metrics import confusion_matrix\n",
    "\n",
    "carbon_plot_xy = './shp_local/tnbt_plot_carbon.shp'\n",
    "carbon_plot_xy_feat = geemap.shp_to_ee(carbon_plot_xy)\n",
    "\n",
    "#band = high_forest_image.select([band_name_image])\n",
    "    \n",
    "# Unmask the band, replacing masked values (null) - Class: null with 0\n",
    "unmasked_band = FCD.unmask(0)\n",
    "\n",
    "# Use sampleRegions to extract pixel values at the point locations\n",
    "sampled_points = unmasked_band.sampleRegions(\n",
    "    collection=carbon_plot_xy_feat,\n",
    "    scale=pca_scale,\n",
    "    properties =['PLOT ID', 'Carbon Sto']\n",
    ")\n",
    "\n",
    "# Get the pixel values as a list\n",
    "#pixel_values = sampled_points.aggregate_array('VD2').getInfo()\n"
   ]
  },
  {
   "cell_type": "code",
   "execution_count": null,
   "id": "30955d40",
   "metadata": {},
   "outputs": [],
   "source": [
    "sampled_points.getInfo()"
   ]
  },
  {
   "cell_type": "code",
   "execution_count": null,
   "id": "10dafe78",
   "metadata": {},
   "outputs": [],
   "source": [
    "plot_arr = sampled_points.aggregate_array('PLOT ID').getInfo()"
   ]
  },
  {
   "cell_type": "code",
   "execution_count": null,
   "id": "5ea79d50",
   "metadata": {},
   "outputs": [],
   "source": [
    "plot_arr"
   ]
  },
  {
   "cell_type": "code",
   "execution_count": null,
   "id": "c748a7ff",
   "metadata": {},
   "outputs": [],
   "source": [
    "fcd_arr = sampled_points.aggregate_array('FCD').getInfo()"
   ]
  },
  {
   "cell_type": "code",
   "execution_count": null,
   "id": "25c80d8b",
   "metadata": {},
   "outputs": [],
   "source": [
    "carbon_stock_tcHa_arr = sampled_points.aggregate_array('Carbon Sto').getInfo()"
   ]
  },
  {
   "cell_type": "code",
   "execution_count": null,
   "id": "91ef9e67",
   "metadata": {},
   "outputs": [],
   "source": [
    "fcd_arr"
   ]
  },
  {
   "cell_type": "code",
   "execution_count": null,
   "id": "19c095c3",
   "metadata": {},
   "outputs": [],
   "source": [
    "carbon_stock_tcHa_arr"
   ]
  },
  {
   "cell_type": "code",
   "execution_count": null,
   "id": "b6be4c9d",
   "metadata": {},
   "outputs": [],
   "source": [
    "import pandas as pd\n",
    "\n",
    "key_field = ['Plot_ID', 'FCD', 'Carbon_stock']\n",
    "value_field = [plot_arr, fcd_arr, carbon_stock_tcHa_arr]\n",
    "\n",
    "dict_data = {key_field[i]:value_field[i] for i in range(len(key_field)) }\n",
    "data_pair_df = pd.DataFrame(dict_data)"
   ]
  },
  {
   "cell_type": "code",
   "execution_count": null,
   "id": "24f5944b",
   "metadata": {},
   "outputs": [],
   "source": [
    "pd.set_option('display.max_rows', None)\n",
    "data_pair_df"
   ]
  },
  {
   "cell_type": "code",
   "execution_count": null,
   "id": "5c1c1a3e",
   "metadata": {},
   "outputs": [],
   "source": [
    "# alternatively\n",
    "gdf = gpd.read_file(carbon_plot_xy)"
   ]
  },
  {
   "cell_type": "code",
   "execution_count": null,
   "id": "4d89c557",
   "metadata": {},
   "outputs": [],
   "source": [
    "gdf"
   ]
  },
  {
   "cell_type": "code",
   "execution_count": null,
   "id": "f3778cc0",
   "metadata": {},
   "outputs": [],
   "source": [
    "#gdf['Carbon Sto'].tolist()"
   ]
  },
  {
   "cell_type": "code",
   "execution_count": null,
   "id": "d292055d",
   "metadata": {},
   "outputs": [],
   "source": [
    "import numpy as np\n",
    "from sklearn.linear_model import LinearRegression\n",
    "from sklearn.metrics import r2_score\n",
    "\n",
    "# Check if fcd_arr and carbon_stock_tcHa_arr are loaded properly and have data\n",
    "print(\"fcd_arr shape:\", np.array(fcd_arr).shape)\n",
    "print(\"carbon_stock_tcHa_arr shape:\", np.array(carbon_stock_tcHa_arr).shape)\n",
    "\n",
    "# Convert arrays to numpy arrays and ensure they are 1D\n",
    "x = np.array(fcd_arr).reshape(-1)\n",
    "y = np.array(carbon_stock_tcHa_arr)\n",
    "\n",
    "# Check if there are any NaN or missing values in the arrays\n",
    "print(\"NaN in x:\", np.isnan(x).any())\n",
    "print(\"NaN in y:\", np.isnan(y).any())\n",
    "\n",
    "# Create the LinearRegression model and perform fitting and predictions\n",
    "model = LinearRegression()\n",
    "model.fit(x.reshape(-1, 1), y)\n",
    "y_pred = model.predict(x.reshape(-1, 1))\n",
    "\n",
    "# Calculate R-squared score\n",
    "r2 = r2_score(y, y_pred)\n",
    "print(\"R-squared:\", r2)"
   ]
  },
  {
   "cell_type": "code",
   "execution_count": null,
   "id": "89235cfa",
   "metadata": {},
   "outputs": [],
   "source": [
    "# Create a DataFrame for comparison\n",
    "comparison_df = pd.DataFrame({'Actual': y, 'Predicted': y_pred})\n",
    "\n",
    "# Print the DataFrame\n",
    "print(comparison_df)"
   ]
  },
  {
   "cell_type": "code",
   "execution_count": null,
   "id": "a09484e7",
   "metadata": {},
   "outputs": [],
   "source": [
    "import matplotlib.pyplot as plt\n",
    "\n",
    "plt.scatter(x, y)\n",
    "plt.xlabel('Forest Cover Density')\n",
    "plt.ylabel('Carbon Stock')\n",
    "plt.title('Scatter Plot: Forest Cover Density vs. Carbon Stock')\n",
    "plt.show()"
   ]
  },
  {
   "cell_type": "code",
   "execution_count": null,
   "id": "d7c2ee67",
   "metadata": {},
   "outputs": [],
   "source": [
    "x = x.reshape(-1)  # Remove any unnecessary dimensions\n",
    "y = y.reshape(-1)\n",
    "\n",
    "correlation = np.corrcoef(x, y)[0, 1]\n",
    "print(\"Correlation coefficient:\", correlation)"
   ]
  },
  {
   "cell_type": "code",
   "execution_count": null,
   "id": "f0cd63e2",
   "metadata": {},
   "outputs": [],
   "source": [
    "y"
   ]
  },
  {
   "cell_type": "code",
   "execution_count": null,
   "id": "8ca30cf7",
   "metadata": {},
   "outputs": [],
   "source": []
  },
  {
   "cell_type": "code",
   "execution_count": null,
   "id": "624fd1a0",
   "metadata": {},
   "outputs": [],
   "source": []
  }
 ],
 "metadata": {
  "kernelspec": {
   "display_name": "Python 3 (ipykernel)",
   "language": "python",
   "name": "python3"
  },
  "language_info": {
   "codemirror_mode": {
    "name": "ipython",
    "version": 3
   },
   "file_extension": ".py",
   "mimetype": "text/x-python",
   "name": "python",
   "nbconvert_exporter": "python",
   "pygments_lexer": "ipython3",
   "version": "3.11.4"
  }
 },
 "nbformat": 4,
 "nbformat_minor": 5
}
